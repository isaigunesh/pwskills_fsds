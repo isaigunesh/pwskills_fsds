{
 "cells": [
  {
   "cell_type": "code",
   "execution_count": 1,
   "id": "a68784dd-6089-464b-89cc-4db121ffcdc6",
   "metadata": {},
   "outputs": [],
   "source": [
    "l =[]"
   ]
  },
  {
   "cell_type": "code",
   "execution_count": 2,
   "id": "bbb745e5-2bc1-444b-aa97-8e10c2537e7e",
   "metadata": {},
   "outputs": [
    {
     "data": {
      "text/plain": [
       "list"
      ]
     },
     "execution_count": 2,
     "metadata": {},
     "output_type": "execute_result"
    }
   ],
   "source": [
    "type(l)"
   ]
  },
  {
   "cell_type": "code",
   "execution_count": 4,
   "id": "bbeaf19f-afbc-40cb-8ffc-00d7da61fa49",
   "metadata": {},
   "outputs": [],
   "source": [
    "l1 = [29,8,2001,0,'sai','ganesh',3+9j,22.11,False,['list']]"
   ]
  },
  {
   "cell_type": "code",
   "execution_count": 5,
   "id": "12f312ec-115f-4fca-84e8-2babbb65d835",
   "metadata": {},
   "outputs": [
    {
     "data": {
      "text/plain": [
       "[29, 8, 2001, 0, 'sai', 'ganesh', (3+9j), 22.11, False, ['list']]"
      ]
     },
     "execution_count": 5,
     "metadata": {},
     "output_type": "execute_result"
    }
   ],
   "source": [
    "l1"
   ]
  },
  {
   "cell_type": "code",
   "execution_count": 7,
   "id": "1f4f0b56-03d9-4acb-8f8d-4c1fe11050d5",
   "metadata": {},
   "outputs": [
    {
     "data": {
      "text/plain": [
       "'sai'"
      ]
     },
     "execution_count": 7,
     "metadata": {},
     "output_type": "execute_result"
    }
   ],
   "source": [
    "l1[4]"
   ]
  },
  {
   "cell_type": "code",
   "execution_count": 8,
   "id": "4bdf5ba4-cad5-4c7d-8165-e0f1462975e1",
   "metadata": {},
   "outputs": [
    {
     "data": {
      "text/plain": [
       "['list']"
      ]
     },
     "execution_count": 8,
     "metadata": {},
     "output_type": "execute_result"
    }
   ],
   "source": [
    "l1[-1]"
   ]
  },
  {
   "cell_type": "code",
   "execution_count": 9,
   "id": "48f6cfaa-5703-4466-ad3d-6c9336c5e15c",
   "metadata": {},
   "outputs": [
    {
     "ename": "IndexError",
     "evalue": "list index out of range",
     "output_type": "error",
     "traceback": [
      "\u001b[0;31m---------------------------------------------------------------------------\u001b[0m",
      "\u001b[0;31mIndexError\u001b[0m                                Traceback (most recent call last)",
      "Cell \u001b[0;32mIn[9], line 1\u001b[0m\n\u001b[0;32m----> 1\u001b[0m \u001b[43ml1\u001b[49m\u001b[43m[\u001b[49m\u001b[38;5;241;43m-\u001b[39;49m\u001b[38;5;241;43m1\u001b[39;49m\u001b[43m]\u001b[49m\u001b[43m[\u001b[49m\u001b[38;5;241;43m3\u001b[39;49m\u001b[43m]\u001b[49m\n",
      "\u001b[0;31mIndexError\u001b[0m: list index out of range"
     ]
    }
   ],
   "source": [
    "l1[-1][3]"
   ]
  },
  {
   "cell_type": "code",
   "execution_count": 10,
   "id": "01532d46-53e0-40f6-8094-1b4024fe4218",
   "metadata": {},
   "outputs": [
    {
     "data": {
      "text/plain": [
       "[29, 8, 2001, 0]"
      ]
     },
     "execution_count": 10,
     "metadata": {},
     "output_type": "execute_result"
    }
   ],
   "source": [
    "l1[0:4]"
   ]
  },
  {
   "cell_type": "code",
   "execution_count": 11,
   "id": "ae4daaba-882c-4825-b278-c35d14e11bb9",
   "metadata": {},
   "outputs": [],
   "source": [
    "l2 = [23,45,'sudh','pwskills']"
   ]
  },
  {
   "cell_type": "code",
   "execution_count": 12,
   "id": "138e5676-1aff-4b4d-a484-1fd82147f31e",
   "metadata": {},
   "outputs": [
    {
     "data": {
      "text/plain": [
       "[29,\n",
       " 8,\n",
       " 2001,\n",
       " 0,\n",
       " 'sai',\n",
       " 'ganesh',\n",
       " (3+9j),\n",
       " 22.11,\n",
       " False,\n",
       " ['list'],\n",
       " 23,\n",
       " 45,\n",
       " 'sudh',\n",
       " 'pwskills']"
      ]
     },
     "execution_count": 12,
     "metadata": {},
     "output_type": "execute_result"
    }
   ],
   "source": [
    "l1+l2"
   ]
  },
  {
   "cell_type": "code",
   "execution_count": 14,
   "id": "9de5e79b-4282-49fa-af26-19cd38d3c525",
   "metadata": {},
   "outputs": [
    {
     "data": {
      "text/plain": [
       "['s', 'a', 'i', 'g', 'a', 'n', 'e', 's', 'h']"
      ]
     },
     "execution_count": 14,
     "metadata": {},
     "output_type": "execute_result"
    }
   ],
   "source": [
    "list('saiganesh')"
   ]
  },
  {
   "cell_type": "code",
   "execution_count": 15,
   "id": "c294fd54-1b04-4282-bc7c-2a0743d66b77",
   "metadata": {},
   "outputs": [
    {
     "data": {
      "text/plain": [
       "[23, 45, 'sudh', 'pwskills', 23, 45, 'sudh', 'pwskills']"
      ]
     },
     "execution_count": 15,
     "metadata": {},
     "output_type": "execute_result"
    }
   ],
   "source": [
    "l2*2"
   ]
  },
  {
   "cell_type": "code",
   "execution_count": 16,
   "id": "5000365c-f6c4-4389-89d4-d09170d934b5",
   "metadata": {},
   "outputs": [
    {
     "data": {
      "text/plain": [
       "[23, 45, 'sudh', 'pwskills']"
      ]
     },
     "execution_count": 16,
     "metadata": {},
     "output_type": "execute_result"
    }
   ],
   "source": [
    "l2"
   ]
  },
  {
   "cell_type": "code",
   "execution_count": 17,
   "id": "ed433c5b-2ddc-49de-8f99-4f71d49272f3",
   "metadata": {},
   "outputs": [],
   "source": [
    "l2[0]=32"
   ]
  },
  {
   "cell_type": "code",
   "execution_count": 18,
   "id": "f04931db-ab4b-467b-956c-65de71fec27e",
   "metadata": {},
   "outputs": [
    {
     "data": {
      "text/plain": [
       "[32, 45, 'sudh', 'pwskills']"
      ]
     },
     "execution_count": 18,
     "metadata": {},
     "output_type": "execute_result"
    }
   ],
   "source": [
    "l2"
   ]
  },
  {
   "cell_type": "code",
   "execution_count": 19,
   "id": "7e517880-427a-4a40-801f-d5c8d403794e",
   "metadata": {},
   "outputs": [],
   "source": [
    "t = (1,3,4,5,6,7,'pwskills')"
   ]
  },
  {
   "cell_type": "code",
   "execution_count": 20,
   "id": "c2d49fdc-9412-439a-b572-4b0da159ac65",
   "metadata": {},
   "outputs": [
    {
     "data": {
      "text/plain": [
       "tuple"
      ]
     },
     "execution_count": 20,
     "metadata": {},
     "output_type": "execute_result"
    }
   ],
   "source": [
    "type (t)"
   ]
  },
  {
   "cell_type": "code",
   "execution_count": 21,
   "id": "12320084-474a-4a26-bbd6-876d29f43ff2",
   "metadata": {},
   "outputs": [
    {
     "data": {
      "text/plain": [
       "'pwskills'"
      ]
     },
     "execution_count": 21,
     "metadata": {},
     "output_type": "execute_result"
    }
   ],
   "source": [
    "t[-1]"
   ]
  },
  {
   "cell_type": "code",
   "execution_count": 22,
   "id": "4bcb7935-a03d-4917-8862-9251208b5abd",
   "metadata": {},
   "outputs": [
    {
     "data": {
      "text/plain": [
       "('pwskills', 7, 6, 5, 4, 3, 1)"
      ]
     },
     "execution_count": 22,
     "metadata": {},
     "output_type": "execute_result"
    }
   ],
   "source": [
    "t[::-1]"
   ]
  },
  {
   "cell_type": "code",
   "execution_count": 23,
   "id": "e28acd21-7526-42f7-a054-cc8f640ffbb0",
   "metadata": {},
   "outputs": [],
   "source": [
    "t1 = ('hello', 'world',1,5,6,7,9,0)"
   ]
  },
  {
   "cell_type": "code",
   "execution_count": 25,
   "id": "a4352c76-c05d-496b-b4cb-a46168fd4d3d",
   "metadata": {},
   "outputs": [],
   "source": [
    "t2=t+t1"
   ]
  },
  {
   "cell_type": "code",
   "execution_count": 26,
   "id": "8e41c1cb-14af-4a62-a1a2-9c2d9a9a01da",
   "metadata": {},
   "outputs": [
    {
     "data": {
      "text/plain": [
       "(1, 3, 4, 5, 6, 7, 'pwskills', 'hello', 'world', 1, 5, 6, 7, 9, 0)"
      ]
     },
     "execution_count": 26,
     "metadata": {},
     "output_type": "execute_result"
    }
   ],
   "source": [
    "t2"
   ]
  },
  {
   "cell_type": "code",
   "execution_count": 27,
   "id": "d1e0a895-cb41-4ee7-a760-0da6e1ac2616",
   "metadata": {},
   "outputs": [
    {
     "data": {
      "text/plain": [
       "[1, 3, 4, 5, 6, 7, 'pwskills', 'hello', 'world', 1, 5, 6, 7, 9, 0]"
      ]
     },
     "execution_count": 27,
     "metadata": {},
     "output_type": "execute_result"
    }
   ],
   "source": [
    "list(t2)"
   ]
  },
  {
   "cell_type": "code",
   "execution_count": 28,
   "id": "37261632-21eb-4b1f-845c-198f0a73b29d",
   "metadata": {},
   "outputs": [
    {
     "data": {
      "text/plain": [
       "15"
      ]
     },
     "execution_count": 28,
     "metadata": {},
     "output_type": "execute_result"
    }
   ],
   "source": [
    "len(t2)"
   ]
  },
  {
   "cell_type": "code",
   "execution_count": 29,
   "id": "efe6a7fd-368d-4267-961e-8bec120afc06",
   "metadata": {},
   "outputs": [],
   "source": [
    "s= {}"
   ]
  },
  {
   "cell_type": "code",
   "execution_count": 30,
   "id": "9e962956-70c5-4c80-94d0-fefcb246f2d8",
   "metadata": {},
   "outputs": [
    {
     "data": {
      "text/plain": [
       "dict"
      ]
     },
     "execution_count": 30,
     "metadata": {},
     "output_type": "execute_result"
    }
   ],
   "source": [
    "type(s)"
   ]
  },
  {
   "cell_type": "code",
   "execution_count": 33,
   "id": "b5e8fc71-0fe0-460c-bb58-20283d915d67",
   "metadata": {},
   "outputs": [],
   "source": [
    "s1 = {1,23,4,4,25,89}"
   ]
  },
  {
   "cell_type": "code",
   "execution_count": 34,
   "id": "0754fbcf-2f29-4881-a4dc-0bb9dafd37ad",
   "metadata": {},
   "outputs": [
    {
     "data": {
      "text/plain": [
       "set"
      ]
     },
     "execution_count": 34,
     "metadata": {},
     "output_type": "execute_result"
    }
   ],
   "source": [
    "type(s1)"
   ]
  },
  {
   "cell_type": "markdown",
   "id": "17455e50-292e-4aff-b7ad-a03f17e1f3b4",
   "metadata": {
    "tags": []
   },
   "source": [
    "# b"
   ]
  },
  {
   "cell_type": "code",
   "execution_count": 35,
   "id": "1b1b2d94-4933-480c-8803-b4509793ef15",
   "metadata": {},
   "outputs": [
    {
     "data": {
      "text/plain": [
       "{1, 4, 23, 25, 89}"
      ]
     },
     "execution_count": 35,
     "metadata": {},
     "output_type": "execute_result"
    }
   ],
   "source": [
    "s1"
   ]
  },
  {
   "cell_type": "code",
   "execution_count": 2,
   "id": "1ef86127-d606-452b-b070-e8310d78fbed",
   "metadata": {},
   "outputs": [],
   "source": [
    "s2 = {'hello','Hello','hello',1,12,12,16,3,8,9,1,2,3,4,3,6}"
   ]
  },
  {
   "cell_type": "code",
   "execution_count": 3,
   "id": "acfe0c58-1dd2-4088-bde8-18fa962cb99a",
   "metadata": {},
   "outputs": [
    {
     "data": {
      "text/plain": [
       "{1, 12, 16, 2, 3, 4, 6, 8, 9, 'Hello', 'hello'}"
      ]
     },
     "execution_count": 3,
     "metadata": {},
     "output_type": "execute_result"
    }
   ],
   "source": [
    "s2"
   ]
  },
  {
   "cell_type": "code",
   "execution_count": 4,
   "id": "30fc68bf-2dff-4886-a836-7d3d1e9f9a39",
   "metadata": {},
   "outputs": [
    {
     "ename": "AttributeError",
     "evalue": "'set' object has no attribute 'sort'",
     "output_type": "error",
     "traceback": [
      "\u001b[0;31m---------------------------------------------------------------------------\u001b[0m",
      "\u001b[0;31mAttributeError\u001b[0m                            Traceback (most recent call last)",
      "Cell \u001b[0;32mIn[4], line 1\u001b[0m\n\u001b[0;32m----> 1\u001b[0m \u001b[43ms2\u001b[49m\u001b[38;5;241;43m.\u001b[39;49m\u001b[43msort\u001b[49m()\n",
      "\u001b[0;31mAttributeError\u001b[0m: 'set' object has no attribute 'sort'"
     ]
    }
   ],
   "source": [
    "s2.sort()"
   ]
  },
  {
   "cell_type": "code",
   "execution_count": 5,
   "id": "a9e8bae9-cc82-4a02-b866-5574f78a707a",
   "metadata": {},
   "outputs": [
    {
     "data": {
      "text/plain": [
       "[1, 2, 3, 4, 6, 8, 9, 12, 'hello', 16, 'Hello']"
      ]
     },
     "execution_count": 5,
     "metadata": {},
     "output_type": "execute_result"
    }
   ],
   "source": [
    "list(s2)"
   ]
  },
  {
   "cell_type": "code",
   "execution_count": 6,
   "id": "034baa9d-ac21-42db-abdf-e0ef8793a20f",
   "metadata": {},
   "outputs": [
    {
     "data": {
      "text/plain": [
       "{1, 12, 16, 2, 3, 4, 6, 8, 9, 'Hello', 'hello'}"
      ]
     },
     "execution_count": 6,
     "metadata": {},
     "output_type": "execute_result"
    }
   ],
   "source": [
    "set(s2)"
   ]
  },
  {
   "cell_type": "code",
   "execution_count": 7,
   "id": "42e851bb-2ea9-45a5-bd89-f21f653d4169",
   "metadata": {},
   "outputs": [
    {
     "data": {
      "text/plain": [
       "(1, 2, 3, 4, 6, 8, 9, 12, 'hello', 16, 'Hello')"
      ]
     },
     "execution_count": 7,
     "metadata": {},
     "output_type": "execute_result"
    }
   ],
   "source": [
    "tuple(s2)"
   ]
  },
  {
   "cell_type": "code",
   "execution_count": 8,
   "id": "eca9815f-0c0d-419e-9cc2-fb70dc68256c",
   "metadata": {},
   "outputs": [
    {
     "ename": "TypeError",
     "evalue": "'set' object is not subscriptable",
     "output_type": "error",
     "traceback": [
      "\u001b[0;31m---------------------------------------------------------------------------\u001b[0m",
      "\u001b[0;31mTypeError\u001b[0m                                 Traceback (most recent call last)",
      "Cell \u001b[0;32mIn[8], line 1\u001b[0m\n\u001b[0;32m----> 1\u001b[0m \u001b[43ms2\u001b[49m\u001b[43m[\u001b[49m\u001b[38;5;241;43m0\u001b[39;49m\u001b[43m]\u001b[49m\n",
      "\u001b[0;31mTypeError\u001b[0m: 'set' object is not subscriptable"
     ]
    }
   ],
   "source": [
    "s2[0]"
   ]
  },
  {
   "cell_type": "code",
   "execution_count": 9,
   "id": "3bcf7599-468e-4e7a-b3b9-dcc9833df322",
   "metadata": {},
   "outputs": [],
   "source": [
    "s3 = {12,25,26,26,52,8512,28745,1575,12854,96}"
   ]
  },
  {
   "cell_type": "code",
   "execution_count": 10,
   "id": "8431e900-adc0-4767-8660-9641b9b07f4f",
   "metadata": {},
   "outputs": [
    {
     "data": {
      "text/plain": [
       "{12, 25, 26, 52, 96, 1575, 8512, 12854, 28745}"
      ]
     },
     "execution_count": 10,
     "metadata": {},
     "output_type": "execute_result"
    }
   ],
   "source": [
    "s3"
   ]
  },
  {
   "cell_type": "code",
   "execution_count": 11,
   "id": "e7e0363b-1a3b-4a3c-a4d7-40bdd4ae3ef4",
   "metadata": {},
   "outputs": [],
   "source": [
    "d ={}"
   ]
  },
  {
   "cell_type": "code",
   "execution_count": 12,
   "id": "a6730b26-2aea-4404-947d-a070ad41e46f",
   "metadata": {},
   "outputs": [
    {
     "data": {
      "text/plain": [
       "dict"
      ]
     },
     "execution_count": 12,
     "metadata": {},
     "output_type": "execute_result"
    }
   ],
   "source": [
    "type(d)"
   ]
  },
  {
   "cell_type": "code",
   "execution_count": 18,
   "id": "3aa898d3-39d4-4b8e-9ec5-4bfed5ed244f",
   "metadata": {},
   "outputs": [],
   "source": [
    "d1 = {\"name\" : \"sai\", \"age\" : 22 , \"subject\": \"fsds\"}"
   ]
  },
  {
   "cell_type": "code",
   "execution_count": 19,
   "id": "23786288-f16d-47f7-bf01-a17388a21b0a",
   "metadata": {},
   "outputs": [
    {
     "data": {
      "text/plain": [
       "{'name': 'sai', 'age': 22, 'subject': 'fsds'}"
      ]
     },
     "execution_count": 19,
     "metadata": {},
     "output_type": "execute_result"
    }
   ],
   "source": [
    "d1"
   ]
  },
  {
   "cell_type": "code",
   "execution_count": 20,
   "id": "be2006e5-c78c-4210-a4e0-29aade181b74",
   "metadata": {},
   "outputs": [],
   "source": [
    "d2 = {\"name\": \"sai\", \"name\": \"pwskills\"}"
   ]
  },
  {
   "cell_type": "code",
   "execution_count": 21,
   "id": "76cf96e0-6599-46f1-be4b-10bbde7f2ddb",
   "metadata": {},
   "outputs": [
    {
     "data": {
      "text/plain": [
       "{'name': 'pwskills'}"
      ]
     },
     "execution_count": 21,
     "metadata": {},
     "output_type": "execute_result"
    }
   ],
   "source": [
    "d2"
   ]
  },
  {
   "cell_type": "code",
   "execution_count": 22,
   "id": "495e9b8e-3204-452f-bb7f-c16ec1fb4f62",
   "metadata": {},
   "outputs": [],
   "source": [
    "d3={23323 : \"sai\"}"
   ]
  },
  {
   "cell_type": "code",
   "execution_count": 23,
   "id": "45295195-d8db-40e8-a7b6-83ad169018bf",
   "metadata": {},
   "outputs": [
    {
     "data": {
      "text/plain": [
       "{23323: 'sai'}"
      ]
     },
     "execution_count": 23,
     "metadata": {},
     "output_type": "execute_result"
    }
   ],
   "source": [
    "d3"
   ]
  },
  {
   "cell_type": "code",
   "execution_count": 24,
   "id": "f93d252a-0c27-444a-a2b8-dbb713d24d1c",
   "metadata": {},
   "outputs": [],
   "source": [
    "d3 = {(2,3,4,4,45,5): \"sai\"}"
   ]
  },
  {
   "cell_type": "code",
   "execution_count": 25,
   "id": "0922ca39-1d52-4621-a224-871792be54ec",
   "metadata": {},
   "outputs": [
    {
     "data": {
      "text/plain": [
       "{(2, 3, 4, 4, 45, 5): 'sai'}"
      ]
     },
     "execution_count": 25,
     "metadata": {},
     "output_type": "execute_result"
    }
   ],
   "source": [
    "d3"
   ]
  },
  {
   "cell_type": "code",
   "execution_count": 26,
   "id": "dba0f62f-83f2-4371-ab4c-4bfa76f45006",
   "metadata": {},
   "outputs": [
    {
     "ename": "SyntaxError",
     "evalue": "invalid syntax (316721379.py, line 1)",
     "output_type": "error",
     "traceback": [
      "\u001b[0;36m  Cell \u001b[0;32mIn[26], line 1\u001b[0;36m\u001b[0m\n\u001b[0;31m    d3 = {%23:\"sai\"}\u001b[0m\n\u001b[0m          ^\u001b[0m\n\u001b[0;31mSyntaxError\u001b[0m\u001b[0;31m:\u001b[0m invalid syntax\n"
     ]
    }
   ],
   "source": [
    "d3 = {%23:\"sai\"} #special characters cant be taken as key"
   ]
  },
  {
   "cell_type": "code",
   "execution_count": 29,
   "id": "415259d3-083e-498a-929e-42335d16ab35",
   "metadata": {},
   "outputs": [
    {
     "ename": "TypeError",
     "evalue": "unhashable type: 'list'",
     "output_type": "error",
     "traceback": [
      "\u001b[0;31m---------------------------------------------------------------------------\u001b[0m",
      "\u001b[0;31mTypeError\u001b[0m                                 Traceback (most recent call last)",
      "Cell \u001b[0;32mIn[29], line 1\u001b[0m\n\u001b[0;32m----> 1\u001b[0m d3\u001b[38;5;241m=\u001b[39m {[\u001b[38;5;241m23.45\u001b[39m,\u001b[38;5;241m56\u001b[39m,\u001b[38;5;241m78\u001b[39m,\u001b[38;5;241m98\u001b[39m,\u001b[38;5;241m67\u001b[39m]: \u001b[38;5;124m\"\u001b[39m\u001b[38;5;124msai\u001b[39m\u001b[38;5;124m\"\u001b[39m} \u001b[38;5;66;03m#list cant be taken as key\u001b[39;00m\n",
      "\u001b[0;31mTypeError\u001b[0m: unhashable type: 'list'"
     ]
    }
   ],
   "source": [
    "d3= {[23.45,56,78,98,67]: \"sai\"} #list cant be taken as key"
   ]
  },
  {
   "cell_type": "code",
   "execution_count": 30,
   "id": "d3450e40-d2a7-4f87-a699-61ad0f84b958",
   "metadata": {},
   "outputs": [
    {
     "ename": "TypeError",
     "evalue": "unhashable type: 'set'",
     "output_type": "error",
     "traceback": [
      "\u001b[0;31m---------------------------------------------------------------------------\u001b[0m",
      "\u001b[0;31mTypeError\u001b[0m                                 Traceback (most recent call last)",
      "Cell \u001b[0;32mIn[30], line 1\u001b[0m\n\u001b[0;32m----> 1\u001b[0m d3\u001b[38;5;241m=\u001b[39m {{\u001b[38;5;241m23.45\u001b[39m,\u001b[38;5;241m56\u001b[39m,\u001b[38;5;241m78\u001b[39m,\u001b[38;5;241m98\u001b[39m,\u001b[38;5;241m67\u001b[39m}: \u001b[38;5;124m\"\u001b[39m\u001b[38;5;124msai\u001b[39m\u001b[38;5;124m\"\u001b[39m}\n",
      "\u001b[0;31mTypeError\u001b[0m: unhashable type: 'set'"
     ]
    }
   ],
   "source": [
    "d3= {{23.45,56,78,98,67}: \"sai\"}"
   ]
  },
  {
   "cell_type": "code",
   "execution_count": 54,
   "id": "765a7f0d-ef2a-4c98-b1b6-589243cbf697",
   "metadata": {},
   "outputs": [],
   "source": [
    "d4 = {\"course\": [\"mech\",\"civil\",\"aer\",\"cse\",\"ece\"],\n",
    "      \"duration\" : 1 ,\n",
    "      \"mentor\" : (\"lakshmi\",\"padmabhushan\",'shahid','chaitanya') ,\n",
    "      \"friends\": {'bhargav',\"praveen\",\"teja\",\"vamshi\",\"divya\"} ,\n",
    "      \"access\" : \"life-time\"}"
   ]
  },
  {
   "cell_type": "code",
   "execution_count": 32,
   "id": "8569181e-dc94-4d42-af6d-8356e8fd372d",
   "metadata": {},
   "outputs": [
    {
     "data": {
      "text/plain": [
       "{'course': ['mech', 'civil', 'aer', 'cse', 'ece'],\n",
       " 'duration': 1,\n",
       " 'mentor': ('lakshmi', 'padmabhushan', 'shahid', 'chaitanya'),\n",
       " 'friends': {'bhargav', 'divya', 'praveen', 'teja', 'vamshi'},\n",
       " 'access': 'life-time'}"
      ]
     },
     "execution_count": 32,
     "metadata": {},
     "output_type": "execute_result"
    }
   ],
   "source": [
    "d4"
   ]
  },
  {
   "cell_type": "code",
   "execution_count": 33,
   "id": "e4f13f23-81cd-43af-bfe6-9a2878434d33",
   "metadata": {},
   "outputs": [
    {
     "data": {
      "text/plain": [
       "1"
      ]
     },
     "execution_count": 33,
     "metadata": {},
     "output_type": "execute_result"
    }
   ],
   "source": [
    "d4['duration']"
   ]
  },
  {
   "cell_type": "code",
   "execution_count": 34,
   "id": "cbe658c3-c436-475e-b8be-7e9d081820e3",
   "metadata": {},
   "outputs": [
    {
     "data": {
      "text/plain": [
       "{'bhargav', 'divya', 'praveen', 'teja', 'vamshi'}"
      ]
     },
     "execution_count": 34,
     "metadata": {},
     "output_type": "execute_result"
    }
   ],
   "source": [
    "d4['friends']"
   ]
  },
  {
   "cell_type": "code",
   "execution_count": 35,
   "id": "6e36b422-8e86-46ce-aeef-5a31402fd48a",
   "metadata": {},
   "outputs": [
    {
     "data": {
      "text/plain": [
       "{'name': 'pwskills'}"
      ]
     },
     "execution_count": 35,
     "metadata": {},
     "output_type": "execute_result"
    }
   ],
   "source": [
    "d2"
   ]
  },
  {
   "cell_type": "code",
   "execution_count": 37,
   "id": "cf63a724-5d2b-4291-99f3-9d55817e2430",
   "metadata": {},
   "outputs": [],
   "source": [
    "d2['phonenumber']= 833955000"
   ]
  },
  {
   "cell_type": "code",
   "execution_count": 38,
   "id": "33fe8e47-4976-42a1-a7f0-9aa170162676",
   "metadata": {},
   "outputs": [
    {
     "data": {
      "text/plain": [
       "{'name': 'pwskills', 'phonenumber': 833955000}"
      ]
     },
     "execution_count": 38,
     "metadata": {},
     "output_type": "execute_result"
    }
   ],
   "source": [
    "d2"
   ]
  },
  {
   "cell_type": "code",
   "execution_count": 41,
   "id": "eec98e54-aa90-4cc2-9987-e7846b5aa74c",
   "metadata": {},
   "outputs": [],
   "source": [
    "d2['name'] = 'ganesh' #if key already exists it replaces value, if not it creates a new value"
   ]
  },
  {
   "cell_type": "code",
   "execution_count": 42,
   "id": "808a6e8d-66cf-41bd-a4c5-5a1a6da7c03e",
   "metadata": {},
   "outputs": [
    {
     "data": {
      "text/plain": [
       "{'name': 'ganesh', 'phonenumber': 833955000}"
      ]
     },
     "execution_count": 42,
     "metadata": {},
     "output_type": "execute_result"
    }
   ],
   "source": [
    "d2"
   ]
  },
  {
   "cell_type": "code",
   "execution_count": 53,
   "id": "ebfd2140-561a-4c23-8e3c-e63bc1f2101f",
   "metadata": {},
   "outputs": [
    {
     "ename": "NameError",
     "evalue": "name 'd4' is not defined",
     "output_type": "error",
     "traceback": [
      "\u001b[1;31m---------------------------------------------------------------------------\u001b[0m",
      "\u001b[1;31mNameError\u001b[0m                                 Traceback (most recent call last)",
      "Cell \u001b[1;32mIn[53], line 1\u001b[0m\n\u001b[1;32m----> 1\u001b[0m \u001b[43md4\u001b[49m\n",
      "\u001b[1;31mNameError\u001b[0m: name 'd4' is not defined"
     ]
    }
   ],
   "source": [
    "d4"
   ]
  },
  {
   "cell_type": "code",
   "execution_count": 2,
   "id": "3b43f23c-c978-4e5e-ae56-08670be44891",
   "metadata": {},
   "outputs": [],
   "source": [
    "s1 = \"sai ganesh\""
   ]
  },
  {
   "cell_type": "code",
   "execution_count": 3,
   "id": "230ea7e2-f340-4d91-9574-7b23be2e4e26",
   "metadata": {},
   "outputs": [
    {
     "data": {
      "text/plain": [
       "'sai ganesh'"
      ]
     },
     "execution_count": 3,
     "metadata": {},
     "output_type": "execute_result"
    }
   ],
   "source": [
    "s1"
   ]
  },
  {
   "cell_type": "code",
   "execution_count": 4,
   "id": "ec6a4c29-5ac4-466d-8ee4-c60486bc1521",
   "metadata": {},
   "outputs": [
    {
     "data": {
      "text/plain": [
       "2"
      ]
     },
     "execution_count": 4,
     "metadata": {},
     "output_type": "execute_result"
    }
   ],
   "source": [
    "s1.count('a',)"
   ]
  },
  {
   "cell_type": "code",
   "execution_count": 5,
   "id": "d75c21a7-6f42-4cc0-9295-0ecf5e180d63",
   "metadata": {
    "tags": []
   },
   "outputs": [
    {
     "data": {
      "text/plain": [
       "1"
      ]
     },
     "execution_count": 5,
     "metadata": {},
     "output_type": "execute_result"
    }
   ],
   "source": [
    "s1.find('a')"
   ]
  },
  {
   "cell_type": "code",
   "execution_count": 6,
   "id": "525fc21f-ce33-47e1-9f3e-ab11bbb6b27f",
   "metadata": {},
   "outputs": [
    {
     "data": {
      "text/plain": [
       "'Sai ganesh'"
      ]
     },
     "execution_count": 6,
     "metadata": {},
     "output_type": "execute_result"
    }
   ],
   "source": [
    "s1.capitalize()"
   ]
  },
  {
   "cell_type": "code",
   "execution_count": 7,
   "id": "19023f18-fc62-4815-897e-b4185dd4825e",
   "metadata": {},
   "outputs": [
    {
     "data": {
      "text/plain": [
       "4"
      ]
     },
     "execution_count": 7,
     "metadata": {},
     "output_type": "execute_result"
    }
   ],
   "source": [
    "s1.index('g')"
   ]
  },
  {
   "cell_type": "code",
   "execution_count": 8,
   "id": "3764bba6-6153-45dc-a377-a1ab94fa6c3f",
   "metadata": {},
   "outputs": [
    {
     "data": {
      "text/plain": [
       "-1"
      ]
     },
     "execution_count": 8,
     "metadata": {},
     "output_type": "execute_result"
    }
   ],
   "source": [
    "s1.find('z')"
   ]
  },
  {
   "cell_type": "code",
   "execution_count": 9,
   "id": "73dbb484-d13b-4045-af48-a3c2ddac0259",
   "metadata": {},
   "outputs": [
    {
     "ename": "ValueError",
     "evalue": "substring not found",
     "output_type": "error",
     "traceback": [
      "\u001b[1;31m---------------------------------------------------------------------------\u001b[0m",
      "\u001b[1;31mValueError\u001b[0m                                Traceback (most recent call last)",
      "Cell \u001b[1;32mIn[9], line 1\u001b[0m\n\u001b[1;32m----> 1\u001b[0m \u001b[43ms1\u001b[49m\u001b[38;5;241;43m.\u001b[39;49m\u001b[43mindex\u001b[49m\u001b[43m(\u001b[49m\u001b[38;5;124;43m'\u001b[39;49m\u001b[38;5;124;43mz\u001b[39;49m\u001b[38;5;124;43m'\u001b[39;49m\u001b[43m)\u001b[49m\n",
      "\u001b[1;31mValueError\u001b[0m: substring not found"
     ]
    }
   ],
   "source": [
    "s1.index('z')"
   ]
  },
  {
   "cell_type": "code",
   "execution_count": 10,
   "id": "6cc8319b-4f1b-4239-9681-2045a944bfa2",
   "metadata": {},
   "outputs": [
    {
     "data": {
      "text/plain": [
       "'SAI GANESH'"
      ]
     },
     "execution_count": 10,
     "metadata": {},
     "output_type": "execute_result"
    }
   ],
   "source": [
    "s1.upper()"
   ]
  },
  {
   "cell_type": "code",
   "execution_count": 11,
   "id": "9cfda1e1-2a7d-47d0-bfe4-3c1b242e163c",
   "metadata": {},
   "outputs": [
    {
     "data": {
      "text/plain": [
       "'sai ganesh'"
      ]
     },
     "execution_count": 11,
     "metadata": {},
     "output_type": "execute_result"
    }
   ],
   "source": [
    "s1.lower()"
   ]
  },
  {
   "cell_type": "code",
   "execution_count": 12,
   "id": "7f08e8de-561b-4d6d-9c4a-4ff739831177",
   "metadata": {},
   "outputs": [
    {
     "data": {
      "text/plain": [
       "'Sai Ganesh'"
      ]
     },
     "execution_count": 12,
     "metadata": {},
     "output_type": "execute_result"
    }
   ],
   "source": [
    "s1.title() #converting into camel case"
   ]
  },
  {
   "cell_type": "code",
   "execution_count": 13,
   "id": "6095b04d-6d95-474b-987d-a67e00a3f7d8",
   "metadata": {},
   "outputs": [
    {
     "data": {
      "text/plain": [
       "['sai', 'ganesh']"
      ]
     },
     "execution_count": 13,
     "metadata": {},
     "output_type": "execute_result"
    }
   ],
   "source": [
    "s1.split() #splitting into each word"
   ]
  },
  {
   "cell_type": "code",
   "execution_count": 22,
   "id": "fa468327-c3b5-4f49-a91a-4aee491f2efb",
   "metadata": {},
   "outputs": [
    {
     "data": {
      "text/plain": [
       "'my name, is , sai , ganesh'"
      ]
     },
     "execution_count": 22,
     "metadata": {},
     "output_type": "execute_result"
    }
   ],
   "source": [
    "s2 = 'my name, is , sai , ganesh'\n",
    "s2"
   ]
  },
  {
   "cell_type": "code",
   "execution_count": 24,
   "id": "6f66dbb0-ef4b-4514-a749-5d9011822dc6",
   "metadata": {},
   "outputs": [
    {
     "data": {
      "text/plain": [
       "['my name', ' is ', ' sai ', ' ganesh']"
      ]
     },
     "execution_count": 24,
     "metadata": {},
     "output_type": "execute_result"
    }
   ],
   "source": [
    "s2.split(',')"
   ]
  },
  {
   "cell_type": "code",
   "execution_count": 25,
   "id": "cbcc9a04-b83e-4310-bfcb-5fe645166949",
   "metadata": {},
   "outputs": [
    {
     "data": {
      "text/plain": [
       "['my', 'name,', 'is', ',', 'sai', ',', 'ganesh']"
      ]
     },
     "execution_count": 25,
     "metadata": {},
     "output_type": "execute_result"
    }
   ],
   "source": [
    "s2.split()"
   ]
  },
  {
   "cell_type": "code",
   "execution_count": 26,
   "id": "8c074e14",
   "metadata": {},
   "outputs": [
    {
     "data": {
      "text/plain": [
       "['my name, i', ' , ', 'ai , gane', 'h']"
      ]
     },
     "execution_count": 26,
     "metadata": {},
     "output_type": "execute_result"
    }
   ],
   "source": [
    "s2.split(\"s\")"
   ]
  },
  {
   "cell_type": "code",
   "execution_count": 28,
   "id": "3e920bce",
   "metadata": {},
   "outputs": [],
   "source": [
    "s4=  \"thiss is my fsds pro classs. I am attending thiss class for 44th time\""
   ]
  },
  {
   "cell_type": "code",
   "execution_count": 32,
   "id": "88de9b8c",
   "metadata": {},
   "outputs": [
    {
     "data": {
      "text/plain": [
       "'thiss is my fsds pro classs'"
      ]
     },
     "execution_count": 32,
     "metadata": {},
     "output_type": "execute_result"
    }
   ],
   "source": [
    "s4.split('.')[0]"
   ]
  },
  {
   "cell_type": "code",
   "execution_count": 33,
   "id": "5047f02a",
   "metadata": {},
   "outputs": [
    {
     "data": {
      "text/plain": [
       "'sai ganesh'"
      ]
     },
     "execution_count": 33,
     "metadata": {},
     "output_type": "execute_result"
    }
   ],
   "source": [
    "s1"
   ]
  },
  {
   "cell_type": "code",
   "execution_count": 34,
   "id": "26e8d1ee",
   "metadata": {},
   "outputs": [
    {
     "data": {
      "text/plain": [
       "'thiss is my fsds pro classs. I am attending thiss class for 44th time'"
      ]
     },
     "execution_count": 34,
     "metadata": {},
     "output_type": "execute_result"
    }
   ],
   "source": [
    "s2"
   ]
  },
  {
   "cell_type": "code",
   "execution_count": 36,
   "id": "5c8bfe64",
   "metadata": {},
   "outputs": [
    {
     "data": {
      "text/plain": [
       "'Thiss is my fsds pro classs. i am attending thiss class for 44th time'"
      ]
     },
     "execution_count": 36,
     "metadata": {},
     "output_type": "execute_result"
    }
   ],
   "source": [
    "s2.capitalize()"
   ]
  },
  {
   "cell_type": "code",
   "execution_count": 37,
   "id": "a2d25c72",
   "metadata": {},
   "outputs": [
    {
     "data": {
      "text/plain": [
       "'Thiss Is My Fsds Pro Classs. I Am Attending Thiss Class For 44Th Time'"
      ]
     },
     "execution_count": 37,
     "metadata": {},
     "output_type": "execute_result"
    }
   ],
   "source": [
    "s2.title()"
   ]
  },
  {
   "cell_type": "code",
   "execution_count": 40,
   "id": "1f693633",
   "metadata": {},
   "outputs": [],
   "source": [
    "s3=s2.replace('n',\"a\")"
   ]
  },
  {
   "cell_type": "code",
   "execution_count": 39,
   "id": "87b213e5",
   "metadata": {},
   "outputs": [
    {
     "data": {
      "text/plain": [
       "'thiss is my fsds pro classs. I am attending thiss class for 44th time'"
      ]
     },
     "execution_count": 39,
     "metadata": {},
     "output_type": "execute_result"
    }
   ],
   "source": [
    "s2"
   ]
  },
  {
   "cell_type": "code",
   "execution_count": 41,
   "id": "c599a2b6",
   "metadata": {},
   "outputs": [
    {
     "data": {
      "text/plain": [
       "'thiss is my fsds pro classs. I am atteadiag thiss class for 44th time'"
      ]
     },
     "execution_count": 41,
     "metadata": {},
     "output_type": "execute_result"
    }
   ],
   "source": [
    "s3"
   ]
  },
  {
   "cell_type": "code",
   "execution_count": 52,
   "id": "639554fc",
   "metadata": {},
   "outputs": [
    {
     "data": {
      "text/plain": [
       "'               thiss is my fsds pro classs. I am attending thiss class for 44th time                '"
      ]
     },
     "execution_count": 52,
     "metadata": {},
     "output_type": "execute_result"
    }
   ],
   "source": [
    "s2.center(100,' ')"
   ]
  },
  {
   "cell_type": "code",
   "execution_count": 55,
   "id": "81ea75a0",
   "metadata": {},
   "outputs": [
    {
     "data": {
      "text/plain": [
       "{'course': ['mech', 'civil', 'aer', 'cse', 'ece'],\n",
       " 'duration': 1,\n",
       " 'mentor': ('lakshmi', 'padmabhushan', 'shahid', 'chaitanya'),\n",
       " 'friends': {'bhargav', 'divya', 'praveen', 'teja', 'vamshi'},\n",
       " 'access': 'life-time'}"
      ]
     },
     "execution_count": 55,
     "metadata": {},
     "output_type": "execute_result"
    }
   ],
   "source": [
    "d4"
   ]
  },
  {
   "cell_type": "code",
   "execution_count": 56,
   "id": "aef3ef62",
   "metadata": {},
   "outputs": [
    {
     "data": {
      "text/plain": [
       "dict_items([('course', ['mech', 'civil', 'aer', 'cse', 'ece']), ('duration', 1), ('mentor', ('lakshmi', 'padmabhushan', 'shahid', 'chaitanya')), ('friends', {'vamshi', 'praveen', 'teja', 'divya', 'bhargav'}), ('access', 'life-time')])"
      ]
     },
     "execution_count": 56,
     "metadata": {},
     "output_type": "execute_result"
    }
   ],
   "source": [
    "d4.items()"
   ]
  },
  {
   "cell_type": "code",
   "execution_count": 57,
   "id": "311a3854",
   "metadata": {},
   "outputs": [
    {
     "data": {
      "text/plain": [
       "'thiss is my fsds pro classs. I am attending thiss class for 44th time'"
      ]
     },
     "execution_count": 57,
     "metadata": {},
     "output_type": "execute_result"
    }
   ],
   "source": [
    "s2.rstrip()"
   ]
  },
  {
   "cell_type": "code",
   "execution_count": 68,
   "id": "267304db",
   "metadata": {},
   "outputs": [],
   "source": [
    "s5 = \"          Pw skills      \""
   ]
  },
  {
   "cell_type": "code",
   "execution_count": 69,
   "id": "65c67142",
   "metadata": {},
   "outputs": [
    {
     "data": {
      "text/plain": [
       "'          Pw skills'"
      ]
     },
     "execution_count": 69,
     "metadata": {},
     "output_type": "execute_result"
    }
   ],
   "source": [
    "s5.rstrip()"
   ]
  },
  {
   "cell_type": "code",
   "execution_count": 70,
   "id": "2e8b8d8c",
   "metadata": {},
   "outputs": [
    {
     "data": {
      "text/plain": [
       "'Pw skills      '"
      ]
     },
     "execution_count": 70,
     "metadata": {},
     "output_type": "execute_result"
    }
   ],
   "source": [
    "s5.lstrip()"
   ]
  },
  {
   "cell_type": "code",
   "execution_count": 71,
   "id": "826242bc",
   "metadata": {},
   "outputs": [
    {
     "data": {
      "text/plain": [
       "'Pw skills'"
      ]
     },
     "execution_count": 71,
     "metadata": {},
     "output_type": "execute_result"
    }
   ],
   "source": [
    "s5.strip()"
   ]
  },
  {
   "cell_type": "code",
   "execution_count": 72,
   "id": "93b01124",
   "metadata": {},
   "outputs": [
    {
     "data": {
      "text/plain": [
       "False"
      ]
     },
     "execution_count": 72,
     "metadata": {},
     "output_type": "execute_result"
    }
   ],
   "source": [
    "s5.isalnum()"
   ]
  },
  {
   "cell_type": "code",
   "execution_count": 73,
   "id": "cd5a8c1b",
   "metadata": {},
   "outputs": [
    {
     "data": {
      "text/plain": [
       "False"
      ]
     },
     "execution_count": 73,
     "metadata": {},
     "output_type": "execute_result"
    }
   ],
   "source": [
    "s5.isalpha()"
   ]
  },
  {
   "cell_type": "code",
   "execution_count": 74,
   "id": "be939c43",
   "metadata": {},
   "outputs": [
    {
     "data": {
      "text/plain": [
       "False"
      ]
     },
     "execution_count": 74,
     "metadata": {},
     "output_type": "execute_result"
    }
   ],
   "source": [
    "s5.isnumeric()"
   ]
  },
  {
   "cell_type": "code",
   "execution_count": 75,
   "id": "a8ca93b8",
   "metadata": {},
   "outputs": [
    {
     "data": {
      "text/plain": [
       "False"
      ]
     },
     "execution_count": 75,
     "metadata": {},
     "output_type": "execute_result"
    }
   ],
   "source": [
    "s5.isalnum()"
   ]
  },
  {
   "cell_type": "code",
   "execution_count": 77,
   "id": "4f2700df",
   "metadata": {},
   "outputs": [],
   "source": [
    "l1 = [1,2,3,4,5,6,6,7,8,9,0,12]"
   ]
  },
  {
   "cell_type": "code",
   "execution_count": 78,
   "id": "6004affe",
   "metadata": {},
   "outputs": [
    {
     "data": {
      "text/plain": [
       "[1, 2, 3, 4, 5, 6, 6, 7, 8, 9, 0, 12]"
      ]
     },
     "execution_count": 78,
     "metadata": {},
     "output_type": "execute_result"
    }
   ],
   "source": [
    "l1"
   ]
  },
  {
   "cell_type": "code",
   "execution_count": 79,
   "id": "8839bdd6",
   "metadata": {},
   "outputs": [],
   "source": [
    "l1.append('sai')"
   ]
  },
  {
   "cell_type": "code",
   "execution_count": 80,
   "id": "a31cf7bd",
   "metadata": {},
   "outputs": [
    {
     "data": {
      "text/plain": [
       "[1, 2, 3, 4, 5, 6, 6, 7, 8, 9, 0, 12, 'sai']"
      ]
     },
     "execution_count": 80,
     "metadata": {},
     "output_type": "execute_result"
    }
   ],
   "source": [
    "l1"
   ]
  },
  {
   "cell_type": "code",
   "execution_count": 81,
   "id": "ff22d8ff",
   "metadata": {},
   "outputs": [],
   "source": [
    "l1.insert(3,'ganesh')"
   ]
  },
  {
   "cell_type": "code",
   "execution_count": 82,
   "id": "a977edbb",
   "metadata": {},
   "outputs": [
    {
     "data": {
      "text/plain": [
       "[1, 2, 3, 'ganesh', 4, 5, 6, 6, 7, 8, 9, 0, 12, 'sai']"
      ]
     },
     "execution_count": 82,
     "metadata": {},
     "output_type": "execute_result"
    }
   ],
   "source": [
    "l1"
   ]
  },
  {
   "cell_type": "code",
   "execution_count": 83,
   "id": "0d41186c",
   "metadata": {},
   "outputs": [],
   "source": [
    "l1.extend('sai')"
   ]
  },
  {
   "cell_type": "code",
   "execution_count": 84,
   "id": "a2d54a1a",
   "metadata": {},
   "outputs": [
    {
     "data": {
      "text/plain": [
       "[1, 2, 3, 'ganesh', 4, 5, 6, 6, 7, 8, 9, 0, 12, 'sai', 's', 'a', 'i']"
      ]
     },
     "execution_count": 84,
     "metadata": {},
     "output_type": "execute_result"
    }
   ],
   "source": [
    "l1"
   ]
  },
  {
   "cell_type": "code",
   "execution_count": 85,
   "id": "56ab4718",
   "metadata": {},
   "outputs": [
    {
     "data": {
      "text/plain": [
       "'i'"
      ]
     },
     "execution_count": 85,
     "metadata": {},
     "output_type": "execute_result"
    }
   ],
   "source": [
    "l1.pop()"
   ]
  },
  {
   "cell_type": "code",
   "execution_count": 86,
   "id": "f19f7360",
   "metadata": {},
   "outputs": [
    {
     "data": {
      "text/plain": [
       "[1, 2, 3, 'ganesh', 4, 5, 6, 6, 7, 8, 9, 0, 12, 'sai', 's', 'a']"
      ]
     },
     "execution_count": 86,
     "metadata": {},
     "output_type": "execute_result"
    }
   ],
   "source": [
    "l1"
   ]
  },
  {
   "cell_type": "code",
   "execution_count": 87,
   "id": "7084f878",
   "metadata": {},
   "outputs": [
    {
     "data": {
      "text/plain": [
       "'ganesh'"
      ]
     },
     "execution_count": 87,
     "metadata": {},
     "output_type": "execute_result"
    }
   ],
   "source": [
    "l1.pop(3)"
   ]
  },
  {
   "cell_type": "code",
   "execution_count": 88,
   "id": "2d42f6a6",
   "metadata": {},
   "outputs": [
    {
     "data": {
      "text/plain": [
       "[1, 2, 3, 4, 5, 6, 6, 7, 8, 9, 0, 12, 'sai', 's', 'a']"
      ]
     },
     "execution_count": 88,
     "metadata": {},
     "output_type": "execute_result"
    }
   ],
   "source": [
    "l1"
   ]
  },
  {
   "cell_type": "code",
   "execution_count": 89,
   "id": "b72410ad",
   "metadata": {},
   "outputs": [],
   "source": [
    "del s5 # delete entire thing"
   ]
  },
  {
   "cell_type": "code",
   "execution_count": 90,
   "id": "a1adb4fe",
   "metadata": {},
   "outputs": [
    {
     "ename": "NameError",
     "evalue": "name 's5' is not defined",
     "output_type": "error",
     "traceback": [
      "\u001b[1;31m---------------------------------------------------------------------------\u001b[0m",
      "\u001b[1;31mNameError\u001b[0m                                 Traceback (most recent call last)",
      "Cell \u001b[1;32mIn[90], line 1\u001b[0m\n\u001b[1;32m----> 1\u001b[0m \u001b[43ms5\u001b[49m\n",
      "\u001b[1;31mNameError\u001b[0m: name 's5' is not defined"
     ]
    }
   ],
   "source": [
    "s5"
   ]
  },
  {
   "cell_type": "code",
   "execution_count": 91,
   "id": "49514606",
   "metadata": {},
   "outputs": [],
   "source": [
    "l1.remove(6)"
   ]
  },
  {
   "cell_type": "code",
   "execution_count": 92,
   "id": "756e745c",
   "metadata": {},
   "outputs": [
    {
     "data": {
      "text/plain": [
       "[1, 2, 3, 4, 5, 6, 7, 8, 9, 0, 12, 'sai', 's', 'a']"
      ]
     },
     "execution_count": 92,
     "metadata": {},
     "output_type": "execute_result"
    }
   ],
   "source": [
    "l1"
   ]
  },
  {
   "cell_type": "code",
   "execution_count": 93,
   "id": "5d800587",
   "metadata": {},
   "outputs": [],
   "source": [
    "l1.remove('s')"
   ]
  },
  {
   "cell_type": "code",
   "execution_count": 94,
   "id": "7746b58f",
   "metadata": {},
   "outputs": [
    {
     "data": {
      "text/plain": [
       "[1, 2, 3, 4, 5, 6, 7, 8, 9, 0, 12, 'sai', 'a']"
      ]
     },
     "execution_count": 94,
     "metadata": {},
     "output_type": "execute_result"
    }
   ],
   "source": [
    "l1"
   ]
  },
  {
   "cell_type": "code",
   "execution_count": 96,
   "id": "d61f1838",
   "metadata": {},
   "outputs": [],
   "source": [
    "l1.append(5)"
   ]
  },
  {
   "cell_type": "code",
   "execution_count": 97,
   "id": "6bee8d71",
   "metadata": {},
   "outputs": [
    {
     "data": {
      "text/plain": [
       "2"
      ]
     },
     "execution_count": 97,
     "metadata": {},
     "output_type": "execute_result"
    }
   ],
   "source": [
    "l1.count(5)"
   ]
  },
  {
   "cell_type": "code",
   "execution_count": 98,
   "id": "818a20b2",
   "metadata": {},
   "outputs": [],
   "source": [
    "l1.reverse()"
   ]
  },
  {
   "cell_type": "code",
   "execution_count": 99,
   "id": "810b421e",
   "metadata": {},
   "outputs": [
    {
     "data": {
      "text/plain": [
       "[5, 'a', 'sai', 12, 0, 9, 8, 7, 6, 5, 4, 3, 2, 1]"
      ]
     },
     "execution_count": 99,
     "metadata": {},
     "output_type": "execute_result"
    }
   ],
   "source": [
    "l1"
   ]
  },
  {
   "cell_type": "code",
   "execution_count": 100,
   "id": "858bd20a",
   "metadata": {},
   "outputs": [
    {
     "data": {
      "text/plain": [
       "[1, 2, 3, 4, 5, 6, 7, 8, 9, 0, 12, 'sai', 'a', 5]"
      ]
     },
     "execution_count": 100,
     "metadata": {},
     "output_type": "execute_result"
    }
   ],
   "source": [
    "l1[::-1]"
   ]
  },
  {
   "cell_type": "code",
   "execution_count": 101,
   "id": "4d61f800",
   "metadata": {},
   "outputs": [
    {
     "ename": "TypeError",
     "evalue": "'<' not supported between instances of 'str' and 'int'",
     "output_type": "error",
     "traceback": [
      "\u001b[1;31m---------------------------------------------------------------------------\u001b[0m",
      "\u001b[1;31mTypeError\u001b[0m                                 Traceback (most recent call last)",
      "Cell \u001b[1;32mIn[101], line 1\u001b[0m\n\u001b[1;32m----> 1\u001b[0m \u001b[43ml1\u001b[49m\u001b[38;5;241;43m.\u001b[39;49m\u001b[43msort\u001b[49m\u001b[43m(\u001b[49m\u001b[43m)\u001b[49m\n",
      "\u001b[1;31mTypeError\u001b[0m: '<' not supported between instances of 'str' and 'int'"
     ]
    }
   ],
   "source": [
    "l1.sort()"
   ]
  },
  {
   "cell_type": "code",
   "execution_count": 102,
   "id": "74f39b48",
   "metadata": {},
   "outputs": [],
   "source": [
    "s8 =[1,16,158,56,86,9,8]"
   ]
  },
  {
   "cell_type": "code",
   "execution_count": 103,
   "id": "4852444e",
   "metadata": {},
   "outputs": [],
   "source": [
    "s8.sort()"
   ]
  },
  {
   "cell_type": "code",
   "execution_count": 104,
   "id": "ea49d604",
   "metadata": {},
   "outputs": [
    {
     "data": {
      "text/plain": [
       "[1, 8, 9, 16, 56, 86, 158]"
      ]
     },
     "execution_count": 104,
     "metadata": {},
     "output_type": "execute_result"
    }
   ],
   "source": [
    "s8"
   ]
  },
  {
   "cell_type": "code",
   "execution_count": 105,
   "id": "8c2c87e9",
   "metadata": {},
   "outputs": [
    {
     "data": {
      "text/plain": [
       "[5, 'a', 'sai', 12, 0, 9, 8, 7, 6, 5, 4, 3, 2, 1]"
      ]
     },
     "execution_count": 105,
     "metadata": {},
     "output_type": "execute_result"
    }
   ],
   "source": [
    "l1"
   ]
  },
  {
   "cell_type": "code",
   "execution_count": 106,
   "id": "b6686578",
   "metadata": {},
   "outputs": [],
   "source": [
    "a1 = [1,2,3,4,5,6,7,8]"
   ]
  },
  {
   "cell_type": "code",
   "execution_count": 107,
   "id": "273df964",
   "metadata": {},
   "outputs": [],
   "source": [
    "a2=a1"
   ]
  },
  {
   "cell_type": "code",
   "execution_count": 108,
   "id": "f2f76f07",
   "metadata": {},
   "outputs": [
    {
     "data": {
      "text/plain": [
       "[1, 2, 3, 4, 5, 6, 7, 8]"
      ]
     },
     "execution_count": 108,
     "metadata": {},
     "output_type": "execute_result"
    }
   ],
   "source": [
    "a2"
   ]
  },
  {
   "cell_type": "code",
   "execution_count": 109,
   "id": "890edbb0",
   "metadata": {},
   "outputs": [],
   "source": [
    "a2[3]=200"
   ]
  },
  {
   "cell_type": "code",
   "execution_count": 110,
   "id": "ec7ffcaf",
   "metadata": {},
   "outputs": [
    {
     "data": {
      "text/plain": [
       "[1, 2, 3, 200, 5, 6, 7, 8]"
      ]
     },
     "execution_count": 110,
     "metadata": {},
     "output_type": "execute_result"
    }
   ],
   "source": [
    "a1"
   ]
  },
  {
   "cell_type": "code",
   "execution_count": 111,
   "id": "2f6c5891",
   "metadata": {},
   "outputs": [],
   "source": [
    "a3 = a1.copy()"
   ]
  },
  {
   "cell_type": "code",
   "execution_count": 112,
   "id": "f1967a91",
   "metadata": {},
   "outputs": [
    {
     "data": {
      "text/plain": [
       "[1, 2, 3, 200, 5, 6, 7, 8]"
      ]
     },
     "execution_count": 112,
     "metadata": {},
     "output_type": "execute_result"
    }
   ],
   "source": [
    "a3"
   ]
  },
  {
   "cell_type": "code",
   "execution_count": 113,
   "id": "5035cd1a",
   "metadata": {},
   "outputs": [
    {
     "data": {
      "text/plain": [
       "[1, 2, 3, 200, 5, 6, 7, 8]"
      ]
     },
     "execution_count": 113,
     "metadata": {},
     "output_type": "execute_result"
    }
   ],
   "source": [
    "a1"
   ]
  },
  {
   "cell_type": "code",
   "execution_count": 114,
   "id": "e4ba0765",
   "metadata": {},
   "outputs": [
    {
     "data": {
      "text/plain": [
       "[1, 2, 3, 200, 5, 6, 7, 8]"
      ]
     },
     "execution_count": 114,
     "metadata": {},
     "output_type": "execute_result"
    }
   ],
   "source": [
    "a2"
   ]
  },
  {
   "cell_type": "code",
   "execution_count": 115,
   "id": "09e0317c",
   "metadata": {},
   "outputs": [],
   "source": [
    "a1[1]=3000"
   ]
  },
  {
   "cell_type": "code",
   "execution_count": 116,
   "id": "f1da1ab7",
   "metadata": {},
   "outputs": [
    {
     "data": {
      "text/plain": [
       "[1, 3000, 3, 200, 5, 6, 7, 8]"
      ]
     },
     "execution_count": 116,
     "metadata": {},
     "output_type": "execute_result"
    }
   ],
   "source": [
    "a1"
   ]
  },
  {
   "cell_type": "code",
   "execution_count": 117,
   "id": "bca11100",
   "metadata": {},
   "outputs": [
    {
     "data": {
      "text/plain": [
       "[1, 3000, 3, 200, 5, 6, 7, 8]"
      ]
     },
     "execution_count": 117,
     "metadata": {},
     "output_type": "execute_result"
    }
   ],
   "source": [
    "a2 #swallow copy"
   ]
  },
  {
   "cell_type": "code",
   "execution_count": 118,
   "id": "9d510edd",
   "metadata": {},
   "outputs": [
    {
     "data": {
      "text/plain": [
       "[1, 2, 3, 200, 5, 6, 7, 8]"
      ]
     },
     "execution_count": 118,
     "metadata": {},
     "output_type": "execute_result"
    }
   ],
   "source": [
    "a3 #deep copy"
   ]
  },
  {
   "cell_type": "code",
   "execution_count": 119,
   "id": "8d24564a",
   "metadata": {},
   "outputs": [
    {
     "data": {
      "text/plain": [
       "{'course': ['mech', 'civil', 'aer', 'cse', 'ece'],\n",
       " 'duration': 1,\n",
       " 'mentor': ('lakshmi', 'padmabhushan', 'shahid', 'chaitanya'),\n",
       " 'friends': {'bhargav', 'divya', 'praveen', 'teja', 'vamshi'},\n",
       " 'access': 'life-time'}"
      ]
     },
     "execution_count": 119,
     "metadata": {},
     "output_type": "execute_result"
    }
   ],
   "source": [
    "d4"
   ]
  },
  {
   "cell_type": "code",
   "execution_count": 120,
   "id": "3e08bce4",
   "metadata": {},
   "outputs": [
    {
     "data": {
      "text/plain": [
       "dict_keys(['course', 'duration', 'mentor', 'friends', 'access'])"
      ]
     },
     "execution_count": 120,
     "metadata": {},
     "output_type": "execute_result"
    }
   ],
   "source": [
    "d4.keys()"
   ]
  },
  {
   "cell_type": "code",
   "execution_count": 121,
   "id": "ad1d105b",
   "metadata": {},
   "outputs": [
    {
     "data": {
      "text/plain": [
       "dict_values([['mech', 'civil', 'aer', 'cse', 'ece'], 1, ('lakshmi', 'padmabhushan', 'shahid', 'chaitanya'), {'vamshi', 'praveen', 'teja', 'divya', 'bhargav'}, 'life-time'])"
      ]
     },
     "execution_count": 121,
     "metadata": {},
     "output_type": "execute_result"
    }
   ],
   "source": [
    "d4.values()"
   ]
  },
  {
   "cell_type": "code",
   "execution_count": 122,
   "id": "f3ac89e2",
   "metadata": {},
   "outputs": [
    {
     "data": {
      "text/plain": [
       "{'bhargav', 'divya', 'praveen', 'teja', 'vamshi'}"
      ]
     },
     "execution_count": 122,
     "metadata": {},
     "output_type": "execute_result"
    }
   ],
   "source": [
    "d4.get(\"friends\")"
   ]
  },
  {
   "cell_type": "code",
   "execution_count": null,
   "id": "3df5cc56",
   "metadata": {},
   "outputs": [],
   "source": []
  }
 ],
 "metadata": {
  "kernelspec": {
   "display_name": "Python 3 (ipykernel)",
   "language": "python",
   "name": "python3"
  },
  "language_info": {
   "codemirror_mode": {
    "name": "ipython",
    "version": 3
   },
   "file_extension": ".py",
   "mimetype": "text/x-python",
   "name": "python",
   "nbconvert_exporter": "python",
   "pygments_lexer": "ipython3",
   "version": "3.11.3"
  }
 },
 "nbformat": 4,
 "nbformat_minor": 5
}
