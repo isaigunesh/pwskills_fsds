{
 "cells": [
  {
   "cell_type": "code",
   "execution_count": 4,
   "id": "a8473ec5-a4ff-4071-b24e-bffee2f3595b",
   "metadata": {},
   "outputs": [
    {
     "data": {
      "text/plain": [
       "3"
      ]
     },
     "execution_count": 4,
     "metadata": {},
     "output_type": "execute_result"
    }
   ],
   "source": [
    "1+2"
   ]
  },
  {
   "cell_type": "code",
   "execution_count": 5,
   "id": "5f51214c-3f85-4ead-bd98-99dedc7d45a7",
   "metadata": {},
   "outputs": [],
   "source": [
    "a = 10"
   ]
  },
  {
   "cell_type": "code",
   "execution_count": 6,
   "id": "165db59d-dc64-4b47-bb2b-fd72cab96dd2",
   "metadata": {},
   "outputs": [
    {
     "data": {
      "text/plain": [
       "10"
      ]
     },
     "execution_count": 6,
     "metadata": {},
     "output_type": "execute_result"
    }
   ],
   "source": [
    "a"
   ]
  },
  {
   "cell_type": "code",
   "execution_count": 7,
   "id": "965d4c04-1f28-461e-826d-6b8183f7ec49",
   "metadata": {},
   "outputs": [],
   "source": [
    "sai = 2095313"
   ]
  },
  {
   "cell_type": "code",
   "execution_count": 8,
   "id": "b75acd88-e2d6-401a-8d6d-e5a469f70f3c",
   "metadata": {},
   "outputs": [
    {
     "data": {
      "text/plain": [
       "2095313"
      ]
     },
     "execution_count": 8,
     "metadata": {},
     "output_type": "execute_result"
    }
   ],
   "source": [
    "sai"
   ]
  },
  {
   "cell_type": "markdown",
   "id": "62388b71-543d-4b3d-a40c-5d5f61b37c94",
   "metadata": {
    "tags": []
   },
   "source": [
    "### type() specifies the type of data"
   ]
  },
  {
   "cell_type": "code",
   "execution_count": 9,
   "id": "2b7cd9aa-d82c-4044-8014-77965ecffd91",
   "metadata": {},
   "outputs": [
    {
     "data": {
      "text/plain": [
       "int"
      ]
     },
     "execution_count": 9,
     "metadata": {},
     "output_type": "execute_result"
    }
   ],
   "source": [
    "type(sai)"
   ]
  },
  {
   "cell_type": "code",
   "execution_count": 10,
   "id": "e26ef29e-7626-4c89-8410-a8af6bd6f39c",
   "metadata": {},
   "outputs": [],
   "source": [
    "pi = 3.17"
   ]
  },
  {
   "cell_type": "code",
   "execution_count": 11,
   "id": "23995ccf-f82d-4df9-8026-81b8faa949a5",
   "metadata": {},
   "outputs": [
    {
     "data": {
      "text/plain": [
       "float"
      ]
     },
     "execution_count": 11,
     "metadata": {},
     "output_type": "execute_result"
    }
   ],
   "source": [
    "type(pi)"
   ]
  },
  {
   "cell_type": "code",
   "execution_count": 12,
   "id": "a343627c-f6f4-4145-95cc-2c5206867bec",
   "metadata": {},
   "outputs": [],
   "source": [
    "s= \"pwskills\""
   ]
  },
  {
   "cell_type": "code",
   "execution_count": 13,
   "id": "6559ebf6-7bf4-4e9a-af3c-30fea248c220",
   "metadata": {},
   "outputs": [
    {
     "data": {
      "text/plain": [
       "str"
      ]
     },
     "execution_count": 13,
     "metadata": {},
     "output_type": "execute_result"
    }
   ],
   "source": [
    "type(s)"
   ]
  },
  {
   "cell_type": "code",
   "execution_count": 14,
   "id": "bb19d544-e0d2-4a89-a289-a1eb1cdfa350",
   "metadata": {},
   "outputs": [
    {
     "data": {
      "text/plain": [
       "'pwskills'"
      ]
     },
     "execution_count": 14,
     "metadata": {},
     "output_type": "execute_result"
    }
   ],
   "source": [
    "s"
   ]
  },
  {
   "cell_type": "markdown",
   "id": "6b9ac0b9-b100-4da3-a65d-afa3ee22b100",
   "metadata": {},
   "source": [
    "### String is a combination of characters"
   ]
  },
  {
   "cell_type": "code",
   "execution_count": 15,
   "id": "0ef3a81f-1f77-43be-9be4-03bca52fb652",
   "metadata": {},
   "outputs": [],
   "source": [
    "s1 = 'this is my first python lecture'"
   ]
  },
  {
   "cell_type": "code",
   "execution_count": 16,
   "id": "a18b83d0-8bd7-4731-ad7b-a956caa19faf",
   "metadata": {},
   "outputs": [
    {
     "data": {
      "text/plain": [
       "'this is my first python lecture'"
      ]
     },
     "execution_count": 16,
     "metadata": {},
     "output_type": "execute_result"
    }
   ],
   "source": [
    "s1"
   ]
  },
  {
   "cell_type": "code",
   "execution_count": 17,
   "id": "1386347f-7794-4152-a0da-7d335ba0e6c7",
   "metadata": {},
   "outputs": [
    {
     "data": {
      "text/plain": [
       "str"
      ]
     },
     "execution_count": 17,
     "metadata": {},
     "output_type": "execute_result"
    }
   ],
   "source": [
    "type(s1)"
   ]
  },
  {
   "cell_type": "markdown",
   "id": "a7a92388-40c4-4666-a766-b2b2bf2e28b1",
   "metadata": {
    "tags": []
   },
   "source": [
    "### Complex numbers are combination of real(.real) and imaginary(.imag) numbers"
   ]
  },
  {
   "cell_type": "code",
   "execution_count": 18,
   "id": "434f7bc2-1d82-49f2-8daa-3131b6c6a4e5",
   "metadata": {},
   "outputs": [],
   "source": [
    "c = 5+6j"
   ]
  },
  {
   "cell_type": "code",
   "execution_count": 19,
   "id": "e2b8cb6b-d6c7-43df-a4d1-8fab289d8170",
   "metadata": {},
   "outputs": [
    {
     "data": {
      "text/plain": [
       "complex"
      ]
     },
     "execution_count": 19,
     "metadata": {},
     "output_type": "execute_result"
    }
   ],
   "source": [
    "type(c)"
   ]
  },
  {
   "cell_type": "code",
   "execution_count": 20,
   "id": "8443bfa6-fc6f-4227-9f20-97ea1adf8b9c",
   "metadata": {},
   "outputs": [
    {
     "data": {
      "text/plain": [
       "(5+6j)"
      ]
     },
     "execution_count": 20,
     "metadata": {},
     "output_type": "execute_result"
    }
   ],
   "source": [
    "c"
   ]
  },
  {
   "cell_type": "code",
   "execution_count": 21,
   "id": "3c16bc82-ebad-45b7-a766-1f5a5adf2145",
   "metadata": {},
   "outputs": [
    {
     "data": {
      "text/plain": [
       "5.0"
      ]
     },
     "execution_count": 21,
     "metadata": {},
     "output_type": "execute_result"
    }
   ],
   "source": [
    "c.real"
   ]
  },
  {
   "cell_type": "code",
   "execution_count": 22,
   "id": "f137039f-3f79-4796-8a27-4d097611fd55",
   "metadata": {},
   "outputs": [
    {
     "data": {
      "text/plain": [
       "6.0"
      ]
     },
     "execution_count": 22,
     "metadata": {},
     "output_type": "execute_result"
    }
   ],
   "source": [
    "c.imag"
   ]
  },
  {
   "cell_type": "code",
   "execution_count": 23,
   "id": "96ffb721-7b3c-4ede-9a89-a6e87f41fb1d",
   "metadata": {},
   "outputs": [],
   "source": [
    "b = True"
   ]
  },
  {
   "cell_type": "code",
   "execution_count": 24,
   "id": "774705a9-9381-4076-a3fe-34833441ab67",
   "metadata": {},
   "outputs": [
    {
     "data": {
      "text/plain": [
       "bool"
      ]
     },
     "execution_count": 24,
     "metadata": {},
     "output_type": "execute_result"
    }
   ],
   "source": [
    "type(b)"
   ]
  },
  {
   "cell_type": "code",
   "execution_count": 25,
   "id": "7fe3b793-2f2e-42b0-8a53-e8784587ae49",
   "metadata": {},
   "outputs": [],
   "source": [
    "b1 = False"
   ]
  },
  {
   "cell_type": "code",
   "execution_count": 26,
   "id": "e89a25f9-de5c-47c3-a85c-dc6d78f24f40",
   "metadata": {},
   "outputs": [
    {
     "data": {
      "text/plain": [
       "bool"
      ]
     },
     "execution_count": 26,
     "metadata": {},
     "output_type": "execute_result"
    }
   ],
   "source": [
    "type(b1)"
   ]
  },
  {
   "cell_type": "code",
   "execution_count": 27,
   "id": "650b8c67-ffaa-4a46-85bf-df9e6dc4c016",
   "metadata": {},
   "outputs": [],
   "source": [
    "a1=99\n",
    "b1=99"
   ]
  },
  {
   "cell_type": "code",
   "execution_count": 28,
   "id": "b757277d-3532-49bd-aece-81b580277090",
   "metadata": {},
   "outputs": [
    {
     "data": {
      "text/plain": [
       "198"
      ]
     },
     "execution_count": 28,
     "metadata": {},
     "output_type": "execute_result"
    }
   ],
   "source": [
    "a1+b1"
   ]
  },
  {
   "cell_type": "code",
   "execution_count": 29,
   "id": "8b247bf8-0503-499e-b7d8-9512c46a7f40",
   "metadata": {},
   "outputs": [
    {
     "data": {
      "text/plain": [
       "9801"
      ]
     },
     "execution_count": 29,
     "metadata": {},
     "output_type": "execute_result"
    }
   ],
   "source": [
    "a1*b1"
   ]
  },
  {
   "cell_type": "code",
   "execution_count": 30,
   "id": "8d04ed7d-20a5-4b58-be4a-ed96203be61c",
   "metadata": {},
   "outputs": [
    {
     "data": {
      "text/plain": [
       "1.0"
      ]
     },
     "execution_count": 30,
     "metadata": {},
     "output_type": "execute_result"
    }
   ],
   "source": [
    "a1/b1"
   ]
  },
  {
   "cell_type": "code",
   "execution_count": 31,
   "id": "74a98e77-e8a8-4bef-a82b-0b5d79ff7c8c",
   "metadata": {},
   "outputs": [
    {
     "data": {
      "text/plain": [
       "0"
      ]
     },
     "execution_count": 31,
     "metadata": {},
     "output_type": "execute_result"
    }
   ],
   "source": [
    "a1-b1"
   ]
  },
  {
   "cell_type": "code",
   "execution_count": 32,
   "id": "8a63c376-c6b5-48b5-aa7c-a2a40925dbb9",
   "metadata": {},
   "outputs": [
    {
     "data": {
      "text/plain": [
       "369729637649726772657187905628805440595668764281741102430259972423552570455277523421410650010128232727940978889548326540119429996769494359451621570193644014418071060667659301384999779999159200499899"
      ]
     },
     "execution_count": 32,
     "metadata": {},
     "output_type": "execute_result"
    }
   ],
   "source": [
    "a1**b1"
   ]
  },
  {
   "cell_type": "markdown",
   "id": "5115c52e-3596-46f5-88b0-f4f5735b2d6c",
   "metadata": {},
   "source": [
    "### Assigning Values In Single line of code"
   ]
  },
  {
   "cell_type": "code",
   "execution_count": 33,
   "id": "172a70a0-ae33-428b-aaa4-0a9905857cdd",
   "metadata": {},
   "outputs": [],
   "source": [
    "a1,b1 = 54, 45"
   ]
  },
  {
   "cell_type": "code",
   "execution_count": 34,
   "id": "3445a6e8-ee92-4636-812a-d177f28b374c",
   "metadata": {},
   "outputs": [
    {
     "data": {
      "text/plain": [
       "9"
      ]
     },
     "execution_count": 34,
     "metadata": {},
     "output_type": "execute_result"
    }
   ],
   "source": [
    "a1-b1"
   ]
  },
  {
   "cell_type": "code",
   "execution_count": 35,
   "id": "1a89ee7a-8c2c-44fd-bd46-56cf2a5b8c36",
   "metadata": {},
   "outputs": [
    {
     "data": {
      "text/plain": [
       "54"
      ]
     },
     "execution_count": 35,
     "metadata": {},
     "output_type": "execute_result"
    }
   ],
   "source": [
    "a1"
   ]
  },
  {
   "cell_type": "code",
   "execution_count": 36,
   "id": "8c34a6f7-af5a-4bf8-a7c6-7108e20dcdb0",
   "metadata": {},
   "outputs": [
    {
     "data": {
      "text/plain": [
       "(54, 45)"
      ]
     },
     "execution_count": 36,
     "metadata": {},
     "output_type": "execute_result"
    }
   ],
   "source": [
    "a1,b1"
   ]
  },
  {
   "cell_type": "code",
   "execution_count": 37,
   "id": "4a877641-d245-4f16-bb53-d0a444358732",
   "metadata": {},
   "outputs": [],
   "source": [
    "a,b,c,d = 12,'sai',3.14,False"
   ]
  },
  {
   "cell_type": "code",
   "execution_count": 38,
   "id": "6bb057dd-8c7a-4f21-bf4e-f11ca3bb9fd9",
   "metadata": {},
   "outputs": [
    {
     "data": {
      "text/plain": [
       "(12, 'sai')"
      ]
     },
     "execution_count": 38,
     "metadata": {},
     "output_type": "execute_result"
    }
   ],
   "source": [
    "a,b"
   ]
  },
  {
   "cell_type": "code",
   "execution_count": 39,
   "id": "f7fb8f55-4de4-42cd-8de2-1c9ec15afa62",
   "metadata": {},
   "outputs": [
    {
     "data": {
      "text/plain": [
       "bool"
      ]
     },
     "execution_count": 39,
     "metadata": {},
     "output_type": "execute_result"
    }
   ],
   "source": [
    "type(d)"
   ]
  },
  {
   "cell_type": "code",
   "execution_count": 40,
   "id": "f8ef3696-6beb-4014-b49a-b114bec81b8d",
   "metadata": {},
   "outputs": [
    {
     "name": "stderr",
     "output_type": "stream",
     "text": [
      "UsageError: Line magic function `%a` not found.\n"
     ]
    }
   ],
   "source": [
    "%a = 326"
   ]
  },
  {
   "cell_type": "code",
   "execution_count": 41,
   "id": "c9c2693b-26ea-43c9-b62f-9c6ef64efec5",
   "metadata": {},
   "outputs": [
    {
     "ename": "SyntaxError",
     "evalue": "invalid decimal literal (3651921142.py, line 1)",
     "output_type": "error",
     "traceback": [
      "\u001b[0;36m  Cell \u001b[0;32mIn[41], line 1\u001b[0;36m\u001b[0m\n\u001b[0;31m    2b = 123\u001b[0m\n\u001b[0m    ^\u001b[0m\n\u001b[0;31mSyntaxError\u001b[0m\u001b[0;31m:\u001b[0m invalid decimal literal\n"
     ]
    }
   ],
   "source": [
    "2b = 123"
   ]
  },
  {
   "cell_type": "code",
   "execution_count": 42,
   "id": "3ad8c4fa-12f6-4736-b343-b3d3f69b269e",
   "metadata": {},
   "outputs": [
    {
     "ename": "SyntaxError",
     "evalue": "invalid syntax. Maybe you meant '==' or ':=' instead of '='? (3862872106.py, line 1)",
     "output_type": "error",
     "traceback": [
      "\u001b[0;36m  Cell \u001b[0;32mIn[42], line 1\u001b[0;36m\u001b[0m\n\u001b[0;31m    @sai = 22\u001b[0m\n\u001b[0m     ^\u001b[0m\n\u001b[0;31mSyntaxError\u001b[0m\u001b[0;31m:\u001b[0m invalid syntax. Maybe you meant '==' or ':=' instead of '='?\n"
     ]
    }
   ],
   "source": [
    "@sai = 22"
   ]
  },
  {
   "cell_type": "code",
   "execution_count": 43,
   "id": "3eafcb02-73d6-4374-a30c-720465c971ad",
   "metadata": {},
   "outputs": [],
   "source": [
    "_a = 45"
   ]
  },
  {
   "cell_type": "code",
   "execution_count": 44,
   "id": "194ae48f-4b2a-4f1b-87ad-cad3cafa0bd6",
   "metadata": {},
   "outputs": [
    {
     "data": {
      "text/plain": [
       "45"
      ]
     },
     "execution_count": 44,
     "metadata": {},
     "output_type": "execute_result"
    }
   ],
   "source": [
    "_a"
   ]
  },
  {
   "cell_type": "code",
   "execution_count": 45,
   "id": "d4964500-bd91-4743-8243-778c9347a9b9",
   "metadata": {},
   "outputs": [
    {
     "ename": "SyntaxError",
     "evalue": "cannot assign to expression here. Maybe you meant '==' instead of '='? (481556464.py, line 1)",
     "output_type": "error",
     "traceback": [
      "\u001b[0;36m  Cell \u001b[0;32mIn[45], line 1\u001b[0;36m\u001b[0m\n\u001b[0;31m    -b = 34\u001b[0m\n\u001b[0m    ^\u001b[0m\n\u001b[0;31mSyntaxError\u001b[0m\u001b[0;31m:\u001b[0m cannot assign to expression here. Maybe you meant '==' instead of '='?\n"
     ]
    }
   ],
   "source": [
    "-b = 34"
   ]
  },
  {
   "cell_type": "code",
   "execution_count": 46,
   "id": "c2958e8f-0058-403b-9345-40e57b1e8103",
   "metadata": {},
   "outputs": [
    {
     "ename": "SyntaxError",
     "evalue": "cannot assign to False (143420768.py, line 1)",
     "output_type": "error",
     "traceback": [
      "\u001b[0;36m  Cell \u001b[0;32mIn[46], line 1\u001b[0;36m\u001b[0m\n\u001b[0;31m    False = 45\u001b[0m\n\u001b[0m    ^\u001b[0m\n\u001b[0;31mSyntaxError\u001b[0m\u001b[0;31m:\u001b[0m cannot assign to False\n"
     ]
    }
   ],
   "source": [
    "False = 45"
   ]
  },
  {
   "cell_type": "code",
   "execution_count": 47,
   "id": "1d456395-c016-4dfa-b8ae-efafccb7ab65",
   "metadata": {},
   "outputs": [],
   "source": [
    "int = 99"
   ]
  },
  {
   "cell_type": "code",
   "execution_count": 48,
   "id": "69e2e61f-cbeb-4e61-aedf-75c978b6b35a",
   "metadata": {},
   "outputs": [
    {
     "data": {
      "text/plain": [
       "99"
      ]
     },
     "execution_count": 48,
     "metadata": {},
     "output_type": "execute_result"
    }
   ],
   "source": [
    "int"
   ]
  },
  {
   "cell_type": "markdown",
   "id": "67820c7c-e993-45a8-8667-7ea91a61aa71",
   "metadata": {},
   "source": [
    "### By default system internally assigns True = 1, False = 0"
   ]
  },
  {
   "cell_type": "code",
   "execution_count": 49,
   "id": "4fa958f7-dfba-4b43-afcd-5d74c732ab16",
   "metadata": {},
   "outputs": [],
   "source": [
    "b1 = True"
   ]
  },
  {
   "cell_type": "code",
   "execution_count": 50,
   "id": "2546707b-970b-412a-b324-70fbea6ade6a",
   "metadata": {},
   "outputs": [],
   "source": [
    "b2 = False"
   ]
  },
  {
   "cell_type": "code",
   "execution_count": 51,
   "id": "6ddcbdb6-25cc-4f3f-9ebc-473845db1614",
   "metadata": {},
   "outputs": [
    {
     "data": {
      "text/plain": [
       "1"
      ]
     },
     "execution_count": 51,
     "metadata": {},
     "output_type": "execute_result"
    }
   ],
   "source": [
    "b1-b2"
   ]
  },
  {
   "cell_type": "code",
   "execution_count": 52,
   "id": "92845509-9808-4b95-9ee2-3d54bf87dc6c",
   "metadata": {},
   "outputs": [
    {
     "data": {
      "text/plain": [
       "0"
      ]
     },
     "execution_count": 52,
     "metadata": {},
     "output_type": "execute_result"
    }
   ],
   "source": [
    "b1*b2"
   ]
  },
  {
   "cell_type": "code",
   "execution_count": 53,
   "id": "a6285c23-b268-4063-acf1-8b21815d7722",
   "metadata": {},
   "outputs": [
    {
     "data": {
      "text/plain": [
       "1"
      ]
     },
     "execution_count": 53,
     "metadata": {},
     "output_type": "execute_result"
    }
   ],
   "source": [
    "b1*b1"
   ]
  },
  {
   "cell_type": "code",
   "execution_count": 54,
   "id": "66a18794-bedb-4c48-aa9f-4d3b09832c3e",
   "metadata": {},
   "outputs": [
    {
     "ename": "ZeroDivisionError",
     "evalue": "division by zero",
     "output_type": "error",
     "traceback": [
      "\u001b[0;31m---------------------------------------------------------------------------\u001b[0m",
      "\u001b[0;31mZeroDivisionError\u001b[0m                         Traceback (most recent call last)",
      "Cell \u001b[0;32mIn[54], line 1\u001b[0m\n\u001b[0;32m----> 1\u001b[0m \u001b[43mb1\u001b[49m\u001b[38;5;241;43m/\u001b[39;49m\u001b[43mb2\u001b[49m\n",
      "\u001b[0;31mZeroDivisionError\u001b[0m: division by zero"
     ]
    }
   ],
   "source": [
    "b1/b2"
   ]
  },
  {
   "cell_type": "code",
   "execution_count": 55,
   "id": "d13f3924-b549-4935-acd0-78712b0ee2eb",
   "metadata": {},
   "outputs": [],
   "source": [
    "s2 = \"this is my first python class for data science master's\""
   ]
  },
  {
   "cell_type": "code",
   "execution_count": 56,
   "id": "3d21812a-2da4-4bd7-b6b0-ffbf02282ca6",
   "metadata": {},
   "outputs": [
    {
     "data": {
      "text/plain": [
       "\"this is my first python class for data science master's\""
      ]
     },
     "execution_count": 56,
     "metadata": {},
     "output_type": "execute_result"
    }
   ],
   "source": [
    "s2"
   ]
  },
  {
   "cell_type": "code",
   "execution_count": 57,
   "id": "6904ada8-3536-4547-9aca-730f0192e5c5",
   "metadata": {},
   "outputs": [],
   "source": [
    "s3 = '\"it is what it is\"'"
   ]
  },
  {
   "cell_type": "code",
   "execution_count": 58,
   "id": "4fdafc19-3b9a-48f9-976e-1aa4c46e5e2e",
   "metadata": {},
   "outputs": [
    {
     "data": {
      "text/plain": [
       "'\"it is what it is\"'"
      ]
     },
     "execution_count": 58,
     "metadata": {},
     "output_type": "execute_result"
    }
   ],
   "source": [
    "s3"
   ]
  },
  {
   "cell_type": "code",
   "execution_count": 59,
   "id": "684dc110-a47a-4ccb-960b-03f8b8002d6b",
   "metadata": {},
   "outputs": [],
   "source": [
    "#This is a comment (single line comment)"
   ]
  },
  {
   "cell_type": "code",
   "execution_count": 53,
   "id": "36259c4c-b191-41e6-b885-c991839a5f6f",
   "metadata": {},
   "outputs": [
    {
     "data": {
      "text/plain": [
       "'this is my first python class\\nI am trying to learn different variable declartions\\nlike int,boolean,string,complex and float variables'"
      ]
     },
     "execution_count": 53,
     "metadata": {},
     "output_type": "execute_result"
    }
   ],
   "source": [
    "'''this is my first python class\n",
    "I am trying to learn different variable declartions\n",
    "like int,boolean,string,complex and float variables''' # (multi-line comment)"
   ]
  },
  {
   "cell_type": "code",
   "execution_count": 61,
   "id": "27f4b028-d4bb-458f-8650-2f897a2b329c",
   "metadata": {},
   "outputs": [],
   "source": [
    "s1 = 'sai'"
   ]
  },
  {
   "cell_type": "code",
   "execution_count": 62,
   "id": "421eabdb-8b75-4e1d-b6ea-ae9767089edc",
   "metadata": {},
   "outputs": [],
   "source": [
    "a= 25"
   ]
  },
  {
   "cell_type": "code",
   "execution_count": 63,
   "id": "f9785484-7968-4332-a6b2-b630330088b6",
   "metadata": {},
   "outputs": [
    {
     "ename": "NameError",
     "evalue": "name 'S1' is not defined",
     "output_type": "error",
     "traceback": [
      "\u001b[0;31m---------------------------------------------------------------------------\u001b[0m",
      "\u001b[0;31mNameError\u001b[0m                                 Traceback (most recent call last)",
      "Cell \u001b[0;32mIn[63], line 1\u001b[0m\n\u001b[0;32m----> 1\u001b[0m \u001b[43mS1\u001b[49m \u001b[38;5;241m+\u001b[39m a\n",
      "\u001b[0;31mNameError\u001b[0m: name 'S1' is not defined"
     ]
    }
   ],
   "source": [
    "S1 + a"
   ]
  },
  {
   "cell_type": "code",
   "execution_count": 64,
   "id": "f7a515db-997a-4226-ab94-56de9ab67096",
   "metadata": {},
   "outputs": [
    {
     "data": {
      "text/plain": [
       "'saiganesh'"
      ]
     },
     "execution_count": 64,
     "metadata": {},
     "output_type": "execute_result"
    }
   ],
   "source": [
    "\"sai\" + \"ganesh\""
   ]
  },
  {
   "cell_type": "code",
   "execution_count": 65,
   "id": "2d0820e3-3564-4e81-b1a4-3805b1d96115",
   "metadata": {},
   "outputs": [
    {
     "data": {
      "text/plain": [
       "25"
      ]
     },
     "execution_count": 65,
     "metadata": {},
     "output_type": "execute_result"
    }
   ],
   "source": [
    "a"
   ]
  },
  {
   "cell_type": "code",
   "execution_count": 66,
   "id": "97d8cbe2-00f7-446a-ab40-ba17d2053a37",
   "metadata": {},
   "outputs": [
    {
     "data": {
      "text/plain": [
       "int"
      ]
     },
     "execution_count": 66,
     "metadata": {},
     "output_type": "execute_result"
    }
   ],
   "source": [
    "type(a)"
   ]
  },
  {
   "cell_type": "code",
   "execution_count": 67,
   "id": "2e9dc839-7c7b-44ce-a54d-53f9cfd1bbe6",
   "metadata": {},
   "outputs": [
    {
     "data": {
      "text/plain": [
       "'25'"
      ]
     },
     "execution_count": 67,
     "metadata": {},
     "output_type": "execute_result"
    }
   ],
   "source": [
    "str(a)"
   ]
  },
  {
   "cell_type": "code",
   "execution_count": 70,
   "id": "3da30635-6e40-4b34-a8db-09b6fcf840e2",
   "metadata": {},
   "outputs": [
    {
     "data": {
      "text/plain": [
       "'sai25'"
      ]
     },
     "execution_count": 70,
     "metadata": {},
     "output_type": "execute_result"
    }
   ],
   "source": [
    "s1 + str(a)"
   ]
  },
  {
   "cell_type": "code",
   "execution_count": 71,
   "id": "cf73378e-ae17-4134-882c-8ca3168c640f",
   "metadata": {},
   "outputs": [
    {
     "data": {
      "text/plain": [
       "'sai  25'"
      ]
     },
     "execution_count": 71,
     "metadata": {},
     "output_type": "execute_result"
    }
   ],
   "source": [
    "s1 + '  ' + str(a)"
   ]
  },
  {
   "cell_type": "code",
   "execution_count": 72,
   "id": "df22d1f4-78fa-4054-9a14-87f3450ce852",
   "metadata": {},
   "outputs": [
    {
     "data": {
      "text/plain": [
       "25"
      ]
     },
     "execution_count": 72,
     "metadata": {},
     "output_type": "execute_result"
    }
   ],
   "source": [
    "a"
   ]
  },
  {
   "cell_type": "code",
   "execution_count": 73,
   "id": "b0ca448b-9772-493f-88b9-c49a4057a18b",
   "metadata": {},
   "outputs": [],
   "source": [
    "b = str(a)"
   ]
  },
  {
   "cell_type": "code",
   "execution_count": 74,
   "id": "5bc3d8c1-f00c-4db8-90bd-a8e5d682ce0f",
   "metadata": {},
   "outputs": [
    {
     "data": {
      "text/plain": [
       "'25'"
      ]
     },
     "execution_count": 74,
     "metadata": {},
     "output_type": "execute_result"
    }
   ],
   "source": [
    "b"
   ]
  },
  {
   "cell_type": "code",
   "execution_count": 1,
   "id": "ed3feb86-d196-4079-a4e7-39dd0b49b1b6",
   "metadata": {},
   "outputs": [],
   "source": [
    "sai = 'ganesh'"
   ]
  },
  {
   "cell_type": "code",
   "execution_count": 2,
   "id": "565e05db-2cba-45a1-8e52-93cbaec74213",
   "metadata": {},
   "outputs": [
    {
     "ename": "ValueError",
     "evalue": "invalid literal for int() with base 10: 'ganesh'",
     "output_type": "error",
     "traceback": [
      "\u001b[0;31m---------------------------------------------------------------------------\u001b[0m",
      "\u001b[0;31mValueError\u001b[0m                                Traceback (most recent call last)",
      "Cell \u001b[0;32mIn[2], line 1\u001b[0m\n\u001b[0;32m----> 1\u001b[0m \u001b[38;5;28;43mint\u001b[39;49m\u001b[43m(\u001b[49m\u001b[43msai\u001b[49m\u001b[43m)\u001b[49m\n",
      "\u001b[0;31mValueError\u001b[0m: invalid literal for int() with base 10: 'ganesh'"
     ]
    }
   ],
   "source": [
    "int(sai)"
   ]
  },
  {
   "cell_type": "code",
   "execution_count": 3,
   "id": "b0a4aa0e-89d5-44a9-b1c0-711c5b903958",
   "metadata": {},
   "outputs": [],
   "source": [
    "sai = 22"
   ]
  },
  {
   "cell_type": "code",
   "execution_count": 4,
   "id": "3a50a3ef-e3f7-4dea-918b-33555199b123",
   "metadata": {},
   "outputs": [
    {
     "data": {
      "text/plain": [
       "'22'"
      ]
     },
     "execution_count": 4,
     "metadata": {},
     "output_type": "execute_result"
    }
   ],
   "source": [
    "str(sai)"
   ]
  },
  {
   "cell_type": "code",
   "execution_count": 5,
   "id": "817940b8-5775-4b17-9075-dfac80e4266d",
   "metadata": {},
   "outputs": [
    {
     "data": {
      "text/plain": [
       "22"
      ]
     },
     "execution_count": 5,
     "metadata": {},
     "output_type": "execute_result"
    }
   ],
   "source": [
    "int(sai)"
   ]
  },
  {
   "cell_type": "code",
   "execution_count": 17,
   "id": "9f0bd6ae-b642-44a2-88d9-58559cdd8aa2",
   "metadata": {},
   "outputs": [
    {
     "name": "stdin",
     "output_type": "stream",
     "text": [
      " 253\n"
     ]
    }
   ],
   "source": [
    "b = int(input())"
   ]
  },
  {
   "cell_type": "code",
   "execution_count": 18,
   "id": "b73e1398-bdc4-44db-9c80-d7e6f0d3a6c2",
   "metadata": {},
   "outputs": [
    {
     "data": {
      "text/plain": [
       "253"
      ]
     },
     "execution_count": 18,
     "metadata": {},
     "output_type": "execute_result"
    }
   ],
   "source": [
    "b"
   ]
  },
  {
   "cell_type": "code",
   "execution_count": 19,
   "id": "54f33f3f-e629-4efc-a7d9-b4459074dbb6",
   "metadata": {},
   "outputs": [
    {
     "data": {
      "text/plain": [
       "int"
      ]
     },
     "execution_count": 19,
     "metadata": {},
     "output_type": "execute_result"
    }
   ],
   "source": [
    "type(b)"
   ]
  },
  {
   "cell_type": "markdown",
   "id": "fba75a8d-fedf-46de-9730-112af2e0a206",
   "metadata": {
    "tags": []
   },
   "source": [
    "### Indexing & slicing"
   ]
  },
  {
   "cell_type": "code",
   "execution_count": 20,
   "id": "73e75179-393a-485b-9bcb-194a692c2e80",
   "metadata": {},
   "outputs": [],
   "source": [
    "s = \"saiganesh\""
   ]
  },
  {
   "cell_type": "code",
   "execution_count": 21,
   "id": "5af092bf-3596-46a1-9ca3-b82e69f23d29",
   "metadata": {},
   "outputs": [
    {
     "data": {
      "text/plain": [
       "'a'"
      ]
     },
     "execution_count": 21,
     "metadata": {},
     "output_type": "execute_result"
    }
   ],
   "source": [
    "s[1]"
   ]
  },
  {
   "cell_type": "code",
   "execution_count": 22,
   "id": "2fa7c483-f9a3-49f2-a2d9-69ca3d794709",
   "metadata": {},
   "outputs": [
    {
     "data": {
      "text/plain": [
       "'ai'"
      ]
     },
     "execution_count": 22,
     "metadata": {},
     "output_type": "execute_result"
    }
   ],
   "source": [
    "s[1:3]"
   ]
  },
  {
   "cell_type": "code",
   "execution_count": 23,
   "id": "b8dc3f1a-06d9-471e-8644-5f33d465f51d",
   "metadata": {},
   "outputs": [
    {
     "data": {
      "text/plain": [
       "''"
      ]
     },
     "execution_count": 23,
     "metadata": {},
     "output_type": "execute_result"
    }
   ],
   "source": [
    "s[1:0]"
   ]
  },
  {
   "cell_type": "code",
   "execution_count": 24,
   "id": "12afd842-7f8a-43cd-8ab0-52cadb682719",
   "metadata": {},
   "outputs": [
    {
     "data": {
      "text/plain": [
       "'h'"
      ]
     },
     "execution_count": 24,
     "metadata": {},
     "output_type": "execute_result"
    }
   ],
   "source": [
    "s[-1]"
   ]
  },
  {
   "cell_type": "code",
   "execution_count": 25,
   "id": "b179830d-a2e1-4cab-823d-bd77b5235e37",
   "metadata": {},
   "outputs": [
    {
     "ename": "IndexError",
     "evalue": "string index out of range",
     "output_type": "error",
     "traceback": [
      "\u001b[0;31m---------------------------------------------------------------------------\u001b[0m",
      "\u001b[0;31mIndexError\u001b[0m                                Traceback (most recent call last)",
      "Cell \u001b[0;32mIn[25], line 1\u001b[0m\n\u001b[0;32m----> 1\u001b[0m \u001b[43ms\u001b[49m\u001b[43m[\u001b[49m\u001b[38;5;241;43m-\u001b[39;49m\u001b[38;5;241;43m120\u001b[39;49m\u001b[43m]\u001b[49m\n",
      "\u001b[0;31mIndexError\u001b[0m: string index out of range"
     ]
    }
   ],
   "source": [
    "s[-120]"
   ]
  },
  {
   "cell_type": "code",
   "execution_count": 26,
   "id": "5e8d688a-10a4-44c0-8760-ccd004f77b96",
   "metadata": {},
   "outputs": [
    {
     "data": {
      "text/plain": [
       "'saig'"
      ]
     },
     "execution_count": 26,
     "metadata": {},
     "output_type": "execute_result"
    }
   ],
   "source": [
    "s[0:4]"
   ]
  },
  {
   "cell_type": "code",
   "execution_count": 27,
   "id": "e7afd31c-279f-41ae-b3dc-d7ce43e31b74",
   "metadata": {},
   "outputs": [
    {
     "data": {
      "text/plain": [
       "'sai'"
      ]
     },
     "execution_count": 27,
     "metadata": {},
     "output_type": "execute_result"
    }
   ],
   "source": [
    "s[0:3]"
   ]
  },
  {
   "cell_type": "code",
   "execution_count": 29,
   "id": "884ac4fa-d6ee-4fc8-a172-3e3749076378",
   "metadata": {},
   "outputs": [
    {
     "data": {
      "text/plain": [
       "'gan'"
      ]
     },
     "execution_count": 29,
     "metadata": {},
     "output_type": "execute_result"
    }
   ],
   "source": [
    "s[3:-3]"
   ]
  },
  {
   "cell_type": "code",
   "execution_count": 30,
   "id": "6d8f7f04-ce3a-4cf6-b96d-e318cb6794e3",
   "metadata": {},
   "outputs": [
    {
     "data": {
      "text/plain": [
       "'ganesh'"
      ]
     },
     "execution_count": 30,
     "metadata": {},
     "output_type": "execute_result"
    }
   ],
   "source": [
    "s[3:9]"
   ]
  },
  {
   "cell_type": "code",
   "execution_count": 31,
   "id": "7abf82a9-f6de-4a6e-8dee-d3b7ce961a8f",
   "metadata": {},
   "outputs": [
    {
     "data": {
      "text/plain": [
       "'ganesh'"
      ]
     },
     "execution_count": 31,
     "metadata": {},
     "output_type": "execute_result"
    }
   ],
   "source": [
    "s[3:1000]"
   ]
  },
  {
   "cell_type": "code",
   "execution_count": 32,
   "id": "eeafe898-0034-4210-80cf-4f75d554d45b",
   "metadata": {},
   "outputs": [
    {
     "data": {
      "text/plain": [
       "'siaeh'"
      ]
     },
     "execution_count": 32,
     "metadata": {},
     "output_type": "execute_result"
    }
   ],
   "source": [
    "s[0:9:2]"
   ]
  },
  {
   "cell_type": "code",
   "execution_count": 33,
   "id": "cee5fac2-a836-40dd-9c59-2e6ce3c5b3b5",
   "metadata": {},
   "outputs": [
    {
     "data": {
      "text/plain": [
       "'sge'"
      ]
     },
     "execution_count": 33,
     "metadata": {},
     "output_type": "execute_result"
    }
   ],
   "source": [
    "s[0:9:3]"
   ]
  },
  {
   "cell_type": "code",
   "execution_count": 36,
   "id": "62bd0761-952e-4db7-911e-f71c6680bfbc",
   "metadata": {},
   "outputs": [
    {
     "data": {
      "text/plain": [
       "'hsenag'"
      ]
     },
     "execution_count": 36,
     "metadata": {},
     "output_type": "execute_result"
    }
   ],
   "source": [
    "s[9:2:-1]"
   ]
  },
  {
   "cell_type": "code",
   "execution_count": 42,
   "id": "71fc6934-5ea4-481a-9d9c-e5a47b00c422",
   "metadata": {},
   "outputs": [
    {
     "data": {
      "text/plain": [
       "'hsenag'"
      ]
     },
     "execution_count": 42,
     "metadata": {},
     "output_type": "execute_result"
    }
   ],
   "source": [
    "s[-1:-7:-1]"
   ]
  },
  {
   "cell_type": "code",
   "execution_count": 47,
   "id": "552e5a8b-e4be-4722-a12a-aa79dfa9832b",
   "metadata": {},
   "outputs": [
    {
     "data": {
      "text/plain": [
       "'hsenagias'"
      ]
     },
     "execution_count": 47,
     "metadata": {},
     "output_type": "execute_result"
    }
   ],
   "source": [
    "s[9:-11:-1]"
   ]
  },
  {
   "cell_type": "code",
   "execution_count": 48,
   "id": "3b04b959-fd13-46cc-ae21-e3b202fbe315",
   "metadata": {},
   "outputs": [
    {
     "data": {
      "text/plain": [
       "'hsenagias'"
      ]
     },
     "execution_count": 48,
     "metadata": {},
     "output_type": "execute_result"
    }
   ],
   "source": [
    "s[9::-1]"
   ]
  },
  {
   "cell_type": "markdown",
   "id": "8073f19c-bc84-4f31-ba6e-a91256dbab6f",
   "metadata": {
    "tags": []
   },
   "source": [
    "### Reversing a string"
   ]
  },
  {
   "cell_type": "code",
   "execution_count": 49,
   "id": "854ee213-89af-4edd-be45-86876fa55a1d",
   "metadata": {},
   "outputs": [
    {
     "data": {
      "text/plain": [
       "'hsenagias'"
      ]
     },
     "execution_count": 49,
     "metadata": {},
     "output_type": "execute_result"
    }
   ],
   "source": [
    "s[::-1]"
   ]
  },
  {
   "cell_type": "markdown",
   "id": "0d5f8f62-1921-48dc-b6ba-db6e4c9c8708",
   "metadata": {},
   "source": [
    "### Item assignment"
   ]
  },
  {
   "cell_type": "code",
   "execution_count": 51,
   "id": "e84d6f90-7b01-4ed3-8a13-20d206233b09",
   "metadata": {},
   "outputs": [
    {
     "ename": "TypeError",
     "evalue": "'str' object does not support item assignment",
     "output_type": "error",
     "traceback": [
      "\u001b[0;31m---------------------------------------------------------------------------\u001b[0m",
      "\u001b[0;31mTypeError\u001b[0m                                 Traceback (most recent call last)",
      "Cell \u001b[0;32mIn[51], line 1\u001b[0m\n\u001b[0;32m----> 1\u001b[0m \u001b[43ms\u001b[49m\u001b[43m[\u001b[49m\u001b[38;5;241;43m0\u001b[39;49m\u001b[43m]\u001b[49m \u001b[38;5;241m=\u001b[39m \u001b[38;5;124m'\u001b[39m\u001b[38;5;124mp\u001b[39m\u001b[38;5;124m'\u001b[39m\n",
      "\u001b[0;31mTypeError\u001b[0m: 'str' object does not support item assignment"
     ]
    }
   ],
   "source": [
    "s[0] = 'p'"
   ]
  },
  {
   "cell_type": "code",
   "execution_count": 52,
   "id": "7e258a94-6183-45ab-b214-3ffb03ce69a5",
   "metadata": {},
   "outputs": [],
   "source": [
    "# strings are immutable. Lists are mutable"
   ]
  },
  {
   "cell_type": "code",
   "execution_count": null,
   "id": "7a599e75-17f9-420a-83be-3f346a3ab1f6",
   "metadata": {},
   "outputs": [],
   "source": []
  }
 ],
 "metadata": {
  "kernelspec": {
   "display_name": "Python 3 (ipykernel)",
   "language": "python",
   "name": "python3"
  },
  "language_info": {
   "codemirror_mode": {
    "name": "ipython",
    "version": 3
   },
   "file_extension": ".py",
   "mimetype": "text/x-python",
   "name": "python",
   "nbconvert_exporter": "python",
   "pygments_lexer": "ipython3",
   "version": "3.10.8"
  }
 },
 "nbformat": 4,
 "nbformat_minor": 5
}
