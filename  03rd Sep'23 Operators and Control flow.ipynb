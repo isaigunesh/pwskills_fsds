{
 "cells": [
  {
   "cell_type": "markdown",
   "id": "4e6cd303",
   "metadata": {},
   "source": [
    "### LOGICAL OPERATORS"
   ]
  },
  {
   "cell_type": "code",
   "execution_count": null,
   "id": "c112205d",
   "metadata": {},
   "outputs": [],
   "source": [
    "and \n",
    "or\n",
    "not"
   ]
  },
  {
   "cell_type": "code",
   "execution_count": 2,
   "id": "f004f1e3",
   "metadata": {},
   "outputs": [],
   "source": [
    "a=10\n",
    "b=20"
   ]
  },
  {
   "cell_type": "code",
   "execution_count": 3,
   "id": "7a4938a9",
   "metadata": {},
   "outputs": [
    {
     "data": {
      "text/plain": [
       "False"
      ]
     },
     "execution_count": 3,
     "metadata": {},
     "output_type": "execute_result"
    }
   ],
   "source": [
    "a>b"
   ]
  },
  {
   "cell_type": "code",
   "execution_count": 4,
   "id": "dd878588",
   "metadata": {},
   "outputs": [
    {
     "data": {
      "text/plain": [
       "False"
      ]
     },
     "execution_count": 4,
     "metadata": {},
     "output_type": "execute_result"
    }
   ],
   "source": [
    "a>b and b>a"
   ]
  },
  {
   "cell_type": "code",
   "execution_count": 5,
   "id": "824688c9",
   "metadata": {},
   "outputs": [
    {
     "data": {
      "text/plain": [
       "True"
      ]
     },
     "execution_count": 5,
     "metadata": {},
     "output_type": "execute_result"
    }
   ],
   "source": [
    "a<b or b>a"
   ]
  },
  {
   "cell_type": "code",
   "execution_count": 6,
   "id": "dd80ac2a",
   "metadata": {},
   "outputs": [],
   "source": [
    "hello = True"
   ]
  },
  {
   "cell_type": "code",
   "execution_count": 7,
   "id": "d4885db0",
   "metadata": {},
   "outputs": [
    {
     "data": {
      "text/plain": [
       "False"
      ]
     },
     "execution_count": 7,
     "metadata": {},
     "output_type": "execute_result"
    }
   ],
   "source": [
    "not(hello)"
   ]
  },
  {
   "cell_type": "markdown",
   "id": "3a11e47e",
   "metadata": {},
   "source": [
    "### CONTROL FLOW STATEMENTS"
   ]
  },
  {
   "cell_type": "code",
   "execution_count": 9,
   "id": "f08dcefe",
   "metadata": {},
   "outputs": [
    {
     "name": "stdout",
     "output_type": "stream",
     "text": [
      "Enter the user age: 22\n",
      "User is MAJOR!\n"
     ]
    }
   ],
   "source": [
    "age = int(input(\"Enter the user age: \"))\n",
    "\n",
    "if age>=18:\n",
    "    print(\"User is MAJOR!\")"
   ]
  },
  {
   "cell_type": "code",
   "execution_count": 10,
   "id": "4653d134",
   "metadata": {},
   "outputs": [
    {
     "name": "stdout",
     "output_type": "stream",
     "text": [
      "Enter the user age: 17\n",
      "user is MINOR\n"
     ]
    }
   ],
   "source": [
    "age = int(input(\"Enter the user age: \"))\n",
    "\n",
    "if age>=18:\n",
    "    print(\"User is MAJOR!\")\n",
    "else: \n",
    "    print(\"user is MINOR\")"
   ]
  },
  {
   "cell_type": "code",
   "execution_count": 14,
   "id": "523cc805",
   "metadata": {},
   "outputs": [
    {
     "name": "stdout",
     "output_type": "stream",
     "text": [
      "Enter the score of the student: 65\n",
      "Avg perfromance studnet grade is C\n"
     ]
    }
   ],
   "source": [
    "score = int(input(\"Enter the score of the student: \"))\n",
    "\n",
    "if score >= 90 :\n",
    "    print(\"Excellent perfromance studnet grade is A+\")\n",
    "elif score >=80:\n",
    "    print(\"Excellent perfromance studnet grade is A\")\n",
    "elif score >=70:\n",
    "    print(\"Good perfromance studnet grade is B\")\n",
    "elif score >=60:\n",
    "    print(\"Avg perfromance studnet grade is C\")\n",
    "elif score >=50:\n",
    "    print(\"Avg perfromance studnet grade is D\")\n",
    "elif score >=40:\n",
    "    print(\"Poor perfromance studnet grade is E\")\n",
    "    "
   ]
  },
  {
   "cell_type": "code",
   "execution_count": 15,
   "id": "39e521f0",
   "metadata": {},
   "outputs": [
    {
     "name": "stdout",
     "output_type": "stream",
     "text": [
      "Enter the time: 15\n",
      "Afternoon\n"
     ]
    }
   ],
   "source": [
    "T = int(input(\"Enter the time: \"))\n",
    "\n",
    "if T<0 :\n",
    "    print('Invalid')\n",
    "elif 0<= T <5:\n",
    "    print('Night')\n",
    "elif 6<= T <11:\n",
    "    print('Morning')\n",
    "elif 12<= T <17:\n",
    "    print('Afternoon')\n",
    "elif 18<= T <23:\n",
    "    print('Evening')\n",
    "else:\n",
    "    print('Invalid')"
   ]
  },
  {
   "cell_type": "code",
   "execution_count": 10,
   "id": "e38d757b",
   "metadata": {},
   "outputs": [
    {
     "name": "stdout",
     "output_type": "stream",
     "text": [
      "Enter the num1= 25\n",
      "Enter the num2= 65\n",
      "Enter the num3= 15\n",
      "The largest among three is 65\n"
     ]
    }
   ],
   "source": [
    "num1 = int(input(\"Enter the num1= \"))\n",
    "num2 = int(input(\"Enter the num2= \"))\n",
    "num3 = int(input(\"Enter the num3= \"))\n",
    "\n",
    "\n",
    "if (num1>num2) and (num1>num3):\n",
    "    largest = num1\n",
    "    print(\"The largest among three is\",largest)\n",
    "elif (num2>num1) and (num2>num3):\n",
    "    largest = num2\n",
    "    print(\"The largest among three is\",largest)\n",
    "else: \n",
    "    largest = num3\n",
    "    print(\"The largest among three is\",largest)\n"
   ]
  },
  {
   "cell_type": "code",
   "execution_count": 15,
   "id": "8dc36c96",
   "metadata": {},
   "outputs": [
    {
     "data": {
      "text/plain": [
       "[0, 2, 4]"
      ]
     },
     "execution_count": 15,
     "metadata": {},
     "output_type": "execute_result"
    }
   ],
   "source": [
    "list(range(0,5,2))"
   ]
  },
  {
   "cell_type": "code",
   "execution_count": 13,
   "id": "ab217fa6",
   "metadata": {},
   "outputs": [
    {
     "data": {
      "text/plain": [
       "[0, 1, 2, 3, 4, 5, 6]"
      ]
     },
     "execution_count": 13,
     "metadata": {},
     "output_type": "execute_result"
    }
   ],
   "source": [
    "list(range(7))"
   ]
  },
  {
   "cell_type": "code",
   "execution_count": 17,
   "id": "2d776a81",
   "metadata": {},
   "outputs": [
    {
     "name": "stdout",
     "output_type": "stream",
     "text": [
      "2\n",
      "3\n",
      "4\n",
      "5\n",
      "6\n",
      "7\n",
      "8\n",
      "9\n"
     ]
    }
   ],
   "source": [
    "for i in range(2,10):\n",
    "    print(i)"
   ]
  },
  {
   "cell_type": "code",
   "execution_count": 20,
   "id": "25063419",
   "metadata": {},
   "outputs": [
    {
     "name": "stdout",
     "output_type": "stream",
     "text": [
      "('s',)\n",
      "('a',)\n",
      "('i',)\n",
      "('g',)\n",
      "('a',)\n",
      "('n',)\n",
      "('e',)\n",
      "('s',)\n",
      "('h',)\n"
     ]
    }
   ],
   "source": [
    "for i in 'saiganesh':\n",
    "    print(tuple(i))"
   ]
  },
  {
   "cell_type": "code",
   "execution_count": 21,
   "id": "2bd465e7",
   "metadata": {},
   "outputs": [
    {
     "name": "stdout",
     "output_type": "stream",
     "text": [
      "1\n",
      "2\n",
      "3\n",
      "4\n",
      "5\n"
     ]
    }
   ],
   "source": [
    "for i in {1,2,3,4,5}:\n",
    "    print(i)"
   ]
  },
  {
   "cell_type": "code",
   "execution_count": 22,
   "id": "7f264960",
   "metadata": {},
   "outputs": [],
   "source": [
    "dict1 = {\"first_name\": \"sai\", \"Second_name\": \"ganesh\", \n",
    "         'Age':\"22\",\"gender\": 'Male'}"
   ]
  },
  {
   "cell_type": "code",
   "execution_count": 24,
   "id": "760b5345",
   "metadata": {},
   "outputs": [
    {
     "name": "stdout",
     "output_type": "stream",
     "text": [
      "first_name\n",
      "Second_name\n",
      "Age\n",
      "gender\n"
     ]
    }
   ],
   "source": [
    "for keys in dict1:\n",
    "    print(keys)"
   ]
  },
  {
   "cell_type": "code",
   "execution_count": 28,
   "id": "91633a84",
   "metadata": {},
   "outputs": [
    {
     "name": "stdout",
     "output_type": "stream",
     "text": [
      "first_name sai\n",
      "Second_name ganesh\n",
      "Age 22\n",
      "gender Male\n"
     ]
    }
   ],
   "source": [
    "for keys in dict1:\n",
    "    print(keys,dict1[keys])"
   ]
  },
  {
   "cell_type": "code",
   "execution_count": 29,
   "id": "72c7a224",
   "metadata": {},
   "outputs": [
    {
     "data": {
      "text/plain": [
       "dict_keys(['first_name', 'Second_name', 'Age', 'gender'])"
      ]
     },
     "execution_count": 29,
     "metadata": {},
     "output_type": "execute_result"
    }
   ],
   "source": [
    "dict1.keys()"
   ]
  },
  {
   "cell_type": "code",
   "execution_count": 30,
   "id": "be7a9992",
   "metadata": {},
   "outputs": [
    {
     "data": {
      "text/plain": [
       "dict_values(['sai', 'ganesh', '22', 'Male'])"
      ]
     },
     "execution_count": 30,
     "metadata": {},
     "output_type": "execute_result"
    }
   ],
   "source": [
    "dict1.values()"
   ]
  },
  {
   "cell_type": "code",
   "execution_count": 1,
   "id": "db5450f6",
   "metadata": {},
   "outputs": [],
   "source": [
    "dict2 = {'x1':1, 'x2':2,'x3':3}"
   ]
  },
  {
   "cell_type": "code",
   "execution_count": 2,
   "id": "9b9daf92",
   "metadata": {},
   "outputs": [
    {
     "data": {
      "text/plain": [
       "dict_keys(['x1', 'x2', 'x3'])"
      ]
     },
     "execution_count": 2,
     "metadata": {},
     "output_type": "execute_result"
    }
   ],
   "source": [
    "dict2.keys()"
   ]
  },
  {
   "cell_type": "code",
   "execution_count": 4,
   "id": "093e91cc",
   "metadata": {},
   "outputs": [
    {
     "data": {
      "text/plain": [
       "dict_values([1, 2, 3])"
      ]
     },
     "execution_count": 4,
     "metadata": {},
     "output_type": "execute_result"
    }
   ],
   "source": [
    "dict2.values()"
   ]
  },
  {
   "cell_type": "code",
   "execution_count": 6,
   "id": "4ba6522f",
   "metadata": {},
   "outputs": [
    {
     "name": "stdout",
     "output_type": "stream",
     "text": [
      "x1 1\n",
      "x2 2\n",
      "x3 3\n"
     ]
    }
   ],
   "source": [
    "for keys in dict2:\n",
    "    print(keys,dict2[keys])"
   ]
  },
  {
   "cell_type": "code",
   "execution_count": 9,
   "id": "dca8f9c7",
   "metadata": {},
   "outputs": [
    {
     "name": "stdout",
     "output_type": "stream",
     "text": [
      "1\n",
      "2\n",
      "3\n"
     ]
    }
   ],
   "source": [
    "for values in dict2:\n",
    "    print(dict2[values])"
   ]
  },
  {
   "cell_type": "code",
   "execution_count": 10,
   "id": "13c1e131",
   "metadata": {},
   "outputs": [
    {
     "data": {
      "text/plain": [
       "3"
      ]
     },
     "execution_count": 10,
     "metadata": {},
     "output_type": "execute_result"
    }
   ],
   "source": [
    "dict2['x3']"
   ]
  },
  {
   "cell_type": "code",
   "execution_count": 1,
   "id": "f1f2dc2c",
   "metadata": {},
   "outputs": [
    {
     "name": "stdout",
     "output_type": "stream",
     "text": [
      "[0, 1, 2, 3, 4, 5, 6, 7, 8, 9]\n"
     ]
    }
   ],
   "source": [
    "print(list(range(10)))"
   ]
  },
  {
   "cell_type": "code",
   "execution_count": 4,
   "id": "8f2797ed",
   "metadata": {},
   "outputs": [
    {
     "name": "stdout",
     "output_type": "stream",
     "text": [
      "0 1 2 3 4 5 6 7 8 9 10 11 12 13 14 15 16 17 18 19 20 21 22 23 24 25 26 27 28 29 30 31 32 33 34 35 36 37 38 39 40 "
     ]
    }
   ],
   "source": [
    "for i in range(41):\n",
    "    print(i,end=\" \")  #end= \" \" is used to gather things in single line "
   ]
  },
  {
   "cell_type": "markdown",
   "id": "e2e7878e",
   "metadata": {},
   "source": [
    "#### NESTED LOOPS (PATTERNS)"
   ]
  },
  {
   "cell_type": "code",
   "execution_count": 10,
   "id": "c2bc3dc7",
   "metadata": {},
   "outputs": [
    {
     "name": "stdout",
     "output_type": "stream",
     "text": [
      "* \n",
      "* * \n",
      "* * * \n",
      "* * * * \n",
      "* * * * * \n"
     ]
    }
   ],
   "source": [
    "for i in range(5):\n",
    "    for j in range(i+1):\n",
    "        print('*',end=\" \")\n",
    "    print()"
   ]
  },
  {
   "cell_type": "code",
   "execution_count": 20,
   "id": "a0265db3",
   "metadata": {},
   "outputs": [
    {
     "name": "stdout",
     "output_type": "stream",
     "text": [
      "1 2 3 4 5 \n",
      "2 4 6 8 10 \n",
      "3 6 9 12 15 \n",
      "4 8 12 16 20 \n",
      "5 10 15 20 25 \n"
     ]
    }
   ],
   "source": [
    "for i in range(1,6):\n",
    "    for j in range(1,6):\n",
    "        print(i*j,end=\" \")\n",
    "    print()"
   ]
  },
  {
   "cell_type": "code",
   "execution_count": 25,
   "id": "8f8bc558",
   "metadata": {},
   "outputs": [
    {
     "name": "stdout",
     "output_type": "stream",
     "text": [
      "1\n",
      "2\n",
      "3\n",
      "4\n",
      "5\n"
     ]
    }
   ],
   "source": [
    "count=1\n",
    "\n",
    "\n",
    "while count<=5:\n",
    "    print(count)\n",
    "    count+=1"
   ]
  },
  {
   "cell_type": "code",
   "execution_count": 4,
   "id": "d0785d54",
   "metadata": {},
   "outputs": [
    {
     "name": "stdout",
     "output_type": "stream",
     "text": [
      "Enter a word: sai ganesh\n",
      "You entered sai ganesh\n",
      "Enter a word: immadi\n",
      "You entered immadi\n",
      "Enter a word: hyderabad\n",
      "You entered hyderabad\n",
      "Enter a word: qquit\n",
      "You entered qquit\n",
      "Enter a word: quit\n",
      "You entered quit\n"
     ]
    }
   ],
   "source": [
    "text = ''\n",
    "while text != 'quit':\n",
    "    text= input('Enter a word: ')\n",
    "    print(\"You entered\",text)"
   ]
  },
  {
   "cell_type": "code",
   "execution_count": 5,
   "id": "d313323b",
   "metadata": {},
   "outputs": [
    {
     "name": "stdout",
     "output_type": "stream",
     "text": [
      "Enter a word: sai \n",
      "You entered sai \n",
      "Enter a word: ganesh\n",
      "You entered ganesh\n",
      "Enter a word: QUIT\n",
      "You entered quit\n"
     ]
    }
   ],
   "source": [
    "text = ''\n",
    "while text != 'quit':\n",
    "    text= input('Enter a word: ').lower()\n",
    "    print(\"You entered\",text)"
   ]
  },
  {
   "cell_type": "code",
   "execution_count": 4,
   "id": "a77212c4",
   "metadata": {},
   "outputs": [
    {
     "name": "stdout",
     "output_type": "stream",
     "text": [
      "Guess my age: 56\n",
      "Invalid guess\n",
      "Guess my age: 22\n",
      "Invalid guess\n",
      "You made a correct guess!\n"
     ]
    }
   ],
   "source": [
    "age_list= [22,23,24,25]\n",
    "age = 0\n",
    "\n",
    "while age not in age_list:\n",
    "    age= int(input(\"Guess my age: \"))\n",
    "    print(\"Invalid guess\")\n",
    "    pass\n",
    "else:\n",
    "    print('You made a correct guess!')"
   ]
  },
  {
   "cell_type": "code",
   "execution_count": null,
   "id": "f38633e1",
   "metadata": {},
   "outputs": [],
   "source": []
  },
  {
   "cell_type": "code",
   "execution_count": null,
   "id": "a8812286",
   "metadata": {},
   "outputs": [],
   "source": []
  }
 ],
 "metadata": {
  "kernelspec": {
   "display_name": "Python 3 (ipykernel)",
   "language": "python",
   "name": "python3"
  },
  "language_info": {
   "codemirror_mode": {
    "name": "ipython",
    "version": 3
   },
   "file_extension": ".py",
   "mimetype": "text/x-python",
   "name": "python",
   "nbconvert_exporter": "python",
   "pygments_lexer": "ipython3",
   "version": "3.11.3"
  }
 },
 "nbformat": 4,
 "nbformat_minor": 5
}
